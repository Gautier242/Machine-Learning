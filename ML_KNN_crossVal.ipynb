{
 "cells": [
  {
   "cell_type": "markdown",
   "metadata": {},
   "source": [
    "Import librairies"
   ]
  },
  {
   "cell_type": "code",
   "execution_count": 1,
   "metadata": {},
   "outputs": [],
   "source": [
    "import matplotlib.pyplot as plt\n",
    "import seaborn as sns\n",
    "import numpy as np"
   ]
  },
  {
   "cell_type": "markdown",
   "metadata": {},
   "source": [
    "Import and plot dataset"
   ]
  },
  {
   "cell_type": "code",
   "execution_count": 2,
   "metadata": {},
   "outputs": [
    {
     "name": "stdout",
     "output_type": "stream",
     "text": [
      "(1797, 64)\n",
      "[0 1 2 ... 8 9 8]\n"
     ]
    }
   ],
   "source": [
    "from sklearn import datasets\n",
    "digits = datasets.load_digits()\n",
    "print(digits.data.shape)\n",
    "print(digits.target)"
   ]
  },
  {
   "cell_type": "code",
   "execution_count": 3,
   "metadata": {},
   "outputs": [
    {
     "data": {
      "image/png": "[encoded data removed]",
      "text/plain": [
       "<Figure size 432x288 with 16 Axes>"
      ]
     },
     "metadata": {
      "needs_background": "light"
     },
     "output_type": "display_data"
    }
   ],
   "source": [
    "# Plot 16 first elements of dataset.\n",
    "for i in range(16):\n",
    "    ax = plt.subplot(4, 4, i+1)\n",
    "    ax.imshow(digits.data[i,:].reshape((8,8)), cmap='Greys')\n",
    "    ax.set_axis_off()"
   ]
  },
  {
   "cell_type": "markdown",
   "metadata": {},
   "source": [
    "Split dataset and check if it is balanced"
   ]
  },
  {
   "cell_type": "code",
   "execution_count": 4,
   "metadata": {},
   "outputs": [],
   "source": [
    "from sklearn.model_selection import train_test_split\n",
    "data_train, data_test, label_train, label_test = train_test_split(digits.data, digits.target, \n",
    "                                                                    test_size=0.3, random_state=84)"
   ]
  },
  {
   "cell_type": "code",
   "execution_count": 5,
   "metadata": {},
   "outputs": [
    {
     "data": {
      "text/plain": [
       "Text(0.5, 0, 'train labels')"
      ]
     },
     "execution_count": 5,
     "metadata": {},
     "output_type": "execute_result"
    },
    {
     "data": {
      "image/png": "[encoded data removed]",
      "text/plain": [
       "<Figure size 432x288 with 2 Axes>"
      ]
     },
     "metadata": {
      "needs_background": "light"
     },
     "output_type": "display_data"
    }
   ],
   "source": [
    "plt.subplot(1, 2, 1)\n",
    "plt.hist(label_test)\n",
    "plt.xlabel('test labels')\n",
    "plt.subplot(1, 2, 2)\n",
    "plt.hist(label_train)\n",
    "plt.xlabel('train labels')"
   ]
  },
  {
   "cell_type": "markdown",
   "metadata": {},
   "source": [
    "Clearly, here it is not balanced which can affect the NN performance. Let's use stratify to split the dataset into balanced train/test sets"
   ]
  },
  {
   "cell_type": "code",
   "execution_count": 6,
   "metadata": {},
   "outputs": [],
   "source": [
    "from sklearn.model_selection import train_test_split\n",
    "data_train, data_test, label_train, label_test = train_test_split(digits.data, digits.target, \n",
    "                                                                    test_size=0.3, random_state=84, stratify=digits.target)"
   ]
  },
  {
   "cell_type": "code",
   "execution_count": 7,
   "metadata": {},
   "outputs": [
    {
     "data": {
      "text/plain": [
       "Text(0.5, 0, 'train labels')"
      ]
     },
     "execution_count": 7,
     "metadata": {},
     "output_type": "execute_result"
    },
    {
     "data": {
      "image/png": "[encoded data removed]",
      "text/plain": [
       "<Figure size 432x288 with 2 Axes>"
      ]
     },
     "metadata": {
      "needs_background": "light"
     },
     "output_type": "display_data"
    }
   ],
   "source": [
    "plt.subplot(1, 2, 1)\n",
    "plt.hist(label_test)\n",
    "plt.xlabel('test labels')\n",
    "plt.subplot(1, 2, 2)\n",
    "plt.hist(label_train)\n",
    "plt.xlabel('train labels')"
   ]
  },
  {
   "cell_type": "markdown",
   "metadata": {},
   "source": [
    "## Create first KNN classifieur"
   ]
  },
  {
   "cell_type": "code",
   "execution_count": 8,
   "metadata": {},
   "outputs": [
    {
     "name": "stdout",
     "output_type": "stream",
     "text": [
      "The 5-NNC has a performance of 0.9833333333333333\n"
     ]
    }
   ],
   "source": [
    "from sklearn.neighbors import KNeighborsClassifier\n",
    "\n",
    "n_neighbors = 5\n",
    "knnc = KNeighborsClassifier(n_neighbors=n_neighbors)\n",
    "knnc.fit(X=data_train,\n",
    "        y=label_train)\n",
    "accuracy = knnc.score(X = data_test, \n",
    "                      y=label_test)\n",
    "print('The 5-NNC has a performance of {}'.format(accuracy))\n",
    "\n"
   ]
  },
  {
   "cell_type": "markdown",
   "metadata": {},
   "source": [
    "Let's try a l2 Logistic Regression with regularisatio param $\\frac{1}{C} = \\frac{1}{2}$. and compare the performances"
   ]
  },
  {
   "cell_type": "code",
   "execution_count": 9,
   "metadata": {},
   "outputs": [
    {
     "name": "stdout",
     "output_type": "stream",
     "text": [
      "The logistic regression has a performance of 0.9648148148148148\n"
     ]
    }
   ],
   "source": [
    "from sklearn.linear_model import LogisticRegression\n",
    "from sklearn.preprocessing import StandardScaler\n",
    "from sklearn.pipeline import Pipeline\n",
    "\n",
    "C = 2\n",
    "penalty='l2'\n",
    "lreg = LogisticRegression(penalty=penalty, C=C, max_iter=200)\n",
    "pip = Pipeline([('scaler', StandardScaler()), ('lreg', lreg)])\n",
    "\n",
    "pip.fit(X=data_train,\n",
    "       y=label_train)\n",
    "accuracy = pip.score(X = data_test, \n",
    "                      y=label_test)\n",
    "print('The logistic regression has a performance of {}'.format(accuracy))\n"
   ]
  },
  {
   "cell_type": "markdown",
   "metadata": {},
   "source": [
    "Let's display the good and bad classification of the 5-NNC"
   ]
  },
  {
   "cell_type": "code",
   "execution_count": 10,
   "metadata": {
    "scrolled": false
   },
   "outputs": [
    {
     "data": {
      "image/png": "[encoded data removed]",
      "text/plain": [
       "<Figure size 504x504 with 16 Axes>"
      ]
     },
     "metadata": {
      "needs_background": "light"
     },
     "output_type": "display_data"
    },
    {
     "data": {
      "image/png": "[encoded data removed]",
      "text/plain": [
       "<Figure size 504x504 with 16 Axes>"
      ]
     },
     "metadata": {
      "needs_background": "light"
     },
     "output_type": "display_data"
    }
   ],
   "source": [
    "np.random.seed(84)\n",
    "preds = pip.predict(X=data_test)\n",
    "success = np.array(preds) == np.array(label_test)   \n",
    "np.random.seed(84)\n",
    "\n",
    "# Here are some of the successful predictions:\n",
    "data_s, pred_s, label_s =data_test[success,:], preds[success], label_test[success]\n",
    "sample = np.random.choice(len(pred_s), size=16)\n",
    "color = {True:'b', False:'r'}\n",
    "plt.figure(figsize=(7, 7))\n",
    "for i in range(16):\n",
    "    ax = plt.subplot(4, 4, i+1)\n",
    "    pred, ground_truth = pred_s[sample][i], label_s[sample][i]\n",
    "    ax.imshow(data_s[sample,:][i,:].reshape((8,8)), cmap='Greys')\n",
    "    ax.set_title('Pred: {}, True: {}'.format(pred, ground_truth), color='b')\n",
    "    ax.set_axis_off()\n",
    "\n",
    "# And here some failure cases:\n",
    "data_f, pred_f, label_f =data_test[~success,:], preds[~success], label_test[~success]\n",
    "sample = np.random.choice(len(pred_f),size=16)\n",
    "plt.figure(figsize=(7, 7))\n",
    "for i in range(16):\n",
    "    ax = plt.subplot(4, 4, i+1)\n",
    "    pred, ground_truth = pred_f[sample][i], label_f[sample][i]\n",
    "    ax.imshow(data_f[sample,:][i,:].reshape((8,8)), cmap='Greys')\n",
    "    ax.set_title('Pred: {}, True: {}'.format(pred, ground_truth), color='r')\n",
    "    ax.set_axis_off()"
   ]
  },
  {
   "cell_type": "markdown",
   "metadata": {},
   "source": [
    "## Evaluate the performance of a model"
   ]
  },
  {
   "cell_type": "markdown",
   "metadata": {},
   "source": [
    "Let's look at accuracy and f1"
   ]
  },
  {
   "cell_type": "code",
   "execution_count": 11,
   "metadata": {},
   "outputs": [
    {
     "name": "stdout",
     "output_type": "stream",
     "text": [
      "Accuracy : 0.9648148148148148, f1 : 0.9650817254659414\n"
     ]
    }
   ],
   "source": [
    "from sklearn import metrics\n",
    "acc = metrics.accuracy_score(y_true=label_test, y_pred=preds)\n",
    "f1_weighted = metrics.f1_score(label_test, preds, average='weighted')\n",
    "print('Accuracy : {}, f1 : {}'.format(acc, f1_weighted))"
   ]
  },
  {
   "cell_type": "markdown",
   "metadata": {},
   "source": [
    "Let's display the full report"
   ]
  },
  {
   "cell_type": "code",
   "execution_count": 12,
   "metadata": {},
   "outputs": [
    {
     "name": "stdout",
     "output_type": "stream",
     "text": [
      "              precision    recall  f1-score   support\n",
      "\n",
      "           0       1.00      1.00      1.00        54\n",
      "           1       0.93      0.93      0.93        55\n",
      "           2       0.98      0.98      0.98        53\n",
      "           3       0.98      0.98      0.98        55\n",
      "           4       0.95      0.98      0.96        54\n",
      "           5       0.98      1.00      0.99        55\n",
      "           6       1.00      0.94      0.97        54\n",
      "           7       1.00      0.98      0.99        54\n",
      "           8       0.86      0.92      0.89        52\n",
      "           9       0.98      0.93      0.95        54\n",
      "\n",
      "    accuracy                           0.96       540\n",
      "   macro avg       0.97      0.96      0.96       540\n",
      "weighted avg       0.97      0.96      0.97       540\n",
      "\n"
     ]
    }
   ],
   "source": [
    "report = metrics.classification_report(y_true=label_test, y_pred=preds)\n",
    "print(report)\n"
   ]
  },
  {
   "cell_type": "markdown",
   "metadata": {},
   "source": [
    "Let's display the confusion matrix"
   ]
  },
  {
   "cell_type": "code",
   "execution_count": 13,
   "metadata": {},
   "outputs": [
    {
     "data": {
      "image/png": "[encoded data removed]",
      "text/plain": [
       "<Figure size 432x288 with 2 Axes>"
      ]
     },
     "metadata": {
      "needs_background": "light"
     },
     "output_type": "display_data"
    }
   ],
   "source": [
    "import seaborn as sns\n",
    "cm = metrics.confusion_matrix(y_true=label_test, y_pred=preds)\n",
    "ax = sns.heatmap(cm, cmap='coolwarm', annot=cm)\n",
    "ax.set_xlabel('Predicted label')\n",
    "ax.set_ylabel('True label')\n",
    "plt.show()"
   ]
  },
  {
   "cell_type": "code",
   "execution_count": 14,
   "metadata": {},
   "outputs": [
    {
     "data": {
      "image/png": "[encoded data removed]",
      "text/plain": [
       "<Figure size 432x288 with 2 Axes>"
      ]
     },
     "metadata": {
      "needs_background": "light"
     },
     "output_type": "display_data"
    }
   ],
   "source": [
    "#For the 5-NNC model\n",
    "preds = knnc.predict(data_test)\n",
    "cm = metrics.confusion_matrix(y_true=label_test, y_pred=preds)\n",
    "ax = sns.heatmap(cm, cmap='coolwarm', annot=cm)\n",
    "ax.set_xlabel('Predicted label')\n",
    "ax.set_ylabel('True label')\n",
    "plt.show()"
   ]
  },
  {
   "cell_type": "markdown",
   "metadata": {},
   "source": [
    "## Selection of the modele"
   ]
  },
  {
   "cell_type": "markdown",
   "metadata": {},
   "source": [
    "To select a model and the right hyperparameter, we could brutaly do a grid_search to test all hyperparameters. This is sub-optimised and take very long time, we will see later other methods to avoid trying them all (such as Optuna for instance). For now as there is only one hyperparameter, let's plot its influence.\n",
    "\n",
    "It is also worth remembering that if the dataset is relatively small, the hyperparameter might be overfitted for a given train/test set. To overcome this with a small dataset, one can do a cross validation. \n",
    "\n",
    "Write the code to try all hyperparameters with grid_search using cross validation"
   ]
  },
  {
   "cell_type": "code",
   "execution_count": 15,
   "metadata": {},
   "outputs": [
    {
     "data": {
      "text/plain": [
       "GridSearchCV(cv=5, estimator=KNeighborsClassifier(),\n",
       "             param_grid={'n_neighbors': array([ 1,  3,  5,  7,  9, 11, 13, 15, 17, 19])},\n",
       "             scoring='accuracy')"
      ]
     },
     "execution_count": 15,
     "metadata": {},
     "output_type": "execute_result"
    }
   ],
   "source": [
    "from sklearn.model_selection import GridSearchCV\n",
    "\n",
    "param_grid = {'n_neighbors':np.arange(1, 20, 2)}\n",
    "\n",
    "cv = GridSearchCV(estimator=KNeighborsClassifier(),\n",
    "                    param_grid=param_grid,\n",
    "                    scoring='accuracy',\n",
    "                    cv=5)\n",
    "cv.fit(data_train,\n",
    "      label_train)"
   ]
  },
  {
   "cell_type": "code",
   "execution_count": 16,
   "metadata": {},
   "outputs": [
    {
     "data": {
      "text/plain": [
       "Text(0, 0.5, 'accuracy')"
      ]
     },
     "execution_count": 16,
     "metadata": {},
     "output_type": "execute_result"
    },
    {
     "data": {
      "image/png": "[encoded data removed]",
      "text/plain": [
       "<Figure size 432x288 with 1 Axes>"
      ]
     },
     "metadata": {
      "needs_background": "light"
     },
     "output_type": "display_data"
    }
   ],
   "source": [
    "## Plot of the results by hyperparam with cross val\n",
    "import pandas as pd\n",
    "res = cv.cv_results_\n",
    "x = [x['n_neighbors'] for x in res['params']]\n",
    "y = res['mean_test_score']\n",
    "stds = res['std_test_score']\n",
    "sns.lineplot(x=x, y=y)\n",
    "lower_bound = y - stds\n",
    "upper_bound = y + stds\n",
    "plt.fill_between(x, lower_bound, upper_bound, alpha=.3)\n",
    "plt.xlabel('n_neighbors')\n",
    "plt.ylabel('accuracy')"
   ]
  },
  {
   "cell_type": "markdown",
   "metadata": {},
   "source": [
    "Do the same with the logistic regression"
   ]
  },
  {
   "cell_type": "code",
   "execution_count": 17,
   "metadata": {},
   "outputs": [
    {
     "data": {
      "text/plain": [
       "GridSearchCV(cv=5, estimator=LogisticRegression(max_iter=300),\n",
       "             param_grid={'C': array([0.1, 0.3, 0.5, 0.7, 0.9, 1.1, 1.3, 1.5, 1.7, 1.9, 2.1, 2.3, 2.5,\n",
       "       2.7, 2.9, 3.1, 3.3, 3.5, 3.7, 3.9, 4.1, 4.3, 4.5, 4.7, 4.9])},\n",
       "             scoring='accuracy')"
      ]
     },
     "execution_count": 17,
     "metadata": {},
     "output_type": "execute_result"
    }
   ],
   "source": [
    "from sklearn.model_selection import GridSearchCV\n",
    "stsc = StandardScaler()\n",
    "data_train = stsc.fit_transform(data_train)\n",
    "\n",
    "param_grid = {'C':np.arange(1, 50, 2)/10}\n",
    "cv = GridSearchCV(estimator=LogisticRegression(penalty='l2', max_iter=300),\n",
    "                    param_grid=param_grid,\n",
    "                    scoring='accuracy',\n",
    "                    cv=5)\n",
    "cv.fit(data_train,\n",
    "      label_train)"
   ]
  },
  {
   "cell_type": "code",
   "execution_count": 18,
   "metadata": {},
   "outputs": [
    {
     "data": {
      "text/plain": [
       "Text(0, 0.5, 'accuracy')"
      ]
     },
     "execution_count": 18,
     "metadata": {},
     "output_type": "execute_result"
    },
    {
     "data": {
      "image/png": "[encoded data removed]",
      "text/plain": [
       "<Figure size 432x288 with 1 Axes>"
      ]
     },
     "metadata": {
      "needs_background": "light"
     },
     "output_type": "display_data"
    }
   ],
   "source": [
    "## Plot of the results by hyperparam with cross val\n",
    "import pandas as pd\n",
    "res = cv.cv_results_\n",
    "x = [x['C'] for x in res['params']]\n",
    "y = res['mean_test_score']\n",
    "stds = res['std_test_score']\n",
    "sns.lineplot(x=x, y=y)\n",
    "lower_bound = y - stds\n",
    "upper_bound = y + stds\n",
    "plt.fill_between(x, lower_bound, upper_bound, alpha=.3)\n",
    "plt.xlabel('C')\n",
    "plt.ylabel('accuracy')"
   ]
  },
  {
   "cell_type": "markdown",
   "metadata": {},
   "source": []
  }
 ],
 "metadata": {
  "kernelspec": {
   "display_name": "Python 3",
   "language": "python",
   "name": "python3"
  },
  "language_info": {
   "codemirror_mode": {
    "name": "ipython",
    "version": 3
   },
   "file_extension": ".py",
   "mimetype": "text/x-python",
   "name": "python",
   "nbconvert_exporter": "python",
   "pygments_lexer": "ipython3",
   "version": "3.8.12"
  }
 },
 "nbformat": 4,
 "nbformat_minor": 4
}

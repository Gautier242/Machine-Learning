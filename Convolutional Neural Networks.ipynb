{
  "cells": [
    {
      "cell_type": "markdown",
      "metadata": {
        "id": "UrMwfTnWanKH"
      },
      "source": [
        "**This notebook has been prepared by Fabien Moutarde and Guillaume Devineau from MINES ParisTech.**\n",
        "\n",
        "It adapts/combines 2 notebooks from : http://online.cambridgecoding.com/notebooks/cca_admin/deep-learning-for-complete-beginners-recognising-handwritten-digits\n",
        "http://online.cambridgecoding.com/notebooks/cca_admin/convolutional-neural-networks-with-keras"
      ]
    },
    {
      "cell_type": "markdown",
      "metadata": {
        "id": "3u6qAh9B6YOI"
      },
      "source": [
        "# Deep-Learning: Introduction to Convolutional Neural Networks"
      ]
    },
    {
      "cell_type": "markdown",
      "metadata": {
        "id": "pKO2vQLhalS4"
      },
      "source": [
        "## 1. Introduction\n",
        "\n",
        "Welcome to a tutorial to get you quickly up to speed with *deep learning*; from first principles, all the way to discussions of some of the intricate details, with the purposes of achieving respectable performance on one established machine learning benchmark: [MNIST](http://yann.lecun.com/exdb/mnist/) (classification of handwritten digits).\n",
        "\n",
        "\n",
        "MNIST dataset                      \n",
        "![](http://perso.mines-paristech.fr/fabien.moutarde/ES_MachineLearning/TP_convNets/mnist.png)  \n",
        "\n",
        "By the end of this part of the tutorial, you should be capable of understanding and producing a simple CNN (with a structure similar to LeNet architecture) in Keras, achieving a respectable level of accuracy on MNIST.\n"
      ]
    },
    {
      "cell_type": "markdown",
      "metadata": {
        "id": "k4AgL6_-afa7"
      },
      "source": [
        "## 2. Convolutions\n",
        "\n",
        "It turns out that there is a very efficient way of pulling this off, and it makes advantage of the structure of the information encoded within an image---it is assumed that pixels that are spatially *closer* together will \"cooperate\" on forming a particular feature of interest much more than ones on opposite corners of the image. Also, if a particular (smaller) feature is found to be of great importance when defining an image's label, it will be equally important if this feature was found anywhere within the image, regardless of location.\n",
        "\n",
        "Enter the **convolution** operator. Given a two-dimensional image, $\\bf I$, and a small matrix, $\\bf K$ of size $h \\times w$, (known as a *convolution kernel*), which we assume encodes a way of extracting an interesting image feature, we compute the convolved image, ${\\bf I} * {\\bf K}$, by overlaying the kernel on top of the image in all possible ways, and recording the sum of elementwise products between the image and the kernel:\n",
        "\n",
        "$$({\\bf I} * {\\bf K})_{xy} = \\sum_{i=1}^h \\sum_{j=1}^w {{\\bf K}_{ij} \\cdot {\\bf I}_{x + i - 1, y + j - 1}}$$\n",
        "\n",
        "(in fact, the exact definition would require us to flip the kernel matrix first, but for the purposes of machine learning it is irrelevant whether this is done)\n",
        "\n",
        "The images below show a diagrammatical overview of the above formula and the result of applying convolution (with two separate kernels) over an image, to act as an edge detector:\n",
        "\n",
        "![](http://perso.mines-paristech.fr/fabien.moutarde/ES_MachineLearning/TP_convNets/convolve.png)\n",
        "![](http://perso.mines-paristech.fr/fabien.moutarde/ES_MachineLearning/TP_convNets/lena.jpg)"
      ]
    },
    {
      "cell_type": "markdown",
      "metadata": {
        "id": "zh1kyIfNafa8"
      },
      "source": [
        "## 3. Convolutional layers and Pooling layers\n",
        "\n",
        "The convolution operator forms the fundamental basis of the **convolutional** layer of a CNN. The layer is completely specified by a certain number of kernels, $\\bf \\vec{K}$ (along with additive biases, $\\vec{b}$, per each kernel), and it operates by computing the convolution of the output images of a previous layer with each of those kernels, afterwards adding the biases (one per each output image). Finally, an activation function, $\\sigma$, may be applied to all of the pixels of the output images. Typically, the input to a convolutional layer will have $d$ *channels* (e.g. red/green/blue in the input layer), in which case the kernels are extended to have this number of channels as well, making the final formula of a single output image channel of a convolutional layer (for a kernel ${\\bf K}$ and bias $b$) as follows:\n",
        "\n",
        "$$\\mathrm{conv}({\\bf I}, {\\bf K})_{xy} = \\sigma\\left(b + \\sum_{i=1}^h \\sum_{j=1}^w \\sum_{k=1}^d {{\\bf K}_{ijk} \\cdot {\\bf I}_{x + i - 1, y + j - 1, k}}\\right)$$\n",
        "\n",
        "Note that, since all we're doing here is addition and scaling of the input pixels, the kernels may be learned from a given training dataset via *gradient descent*, exactly as the weights of an MLP. In fact, an MLP is perfectly capable of replicating a convolutional layer, but it would require a lot more training time (and data) to learn to approximate that mode of operation.\n",
        "\n",
        "Finally, let's just note that a convolutional operator is in no way restricted to two-dimensionally structured data: in fact, most machine learning frameworks ([Keras included](https://keras.io/layers/convolutional/)) will provide you with out-of-the-box layers for 1D and 3D convolutions as well!\n",
        "\n",
        "It is important to note that, while a convolutional layer significantly decreases the number of *parameters* compared to a fully connected (FC) layer, it introduces more **hyperparameters**---parameters whose values need to be chosen *before* training starts.\n",
        "\n",
        "Namely, the hyperparameters to choose within a single convolutional layer are:\n",
        "- *depth*: how many different kernels (and biases) will be convolved with the output of the previous layer;\n",
        "- *height* and *width* of each kernel;\n",
        "- *stride*: by how much we shift the kernel in each step to compute the next pixel in the result. This specifies the overlap between individual output pixels, and typically it is set to $1$, corresponding to the formula given before. Note that larger strides result in smaller output sizes.\n",
        "- *padding*: note that convolution by any kernel larger than $1\\times 1$ will *decrease* the output image size---it is often desirable to keep sizes the same, in which case the image is sufficiently padded with zeroes at the edges. This is often called *\"same\"* padding, as opposed to *\"valid\"* (no) padding. It is possible to add arbitrary levels of padding, but typically the padding of choice will be either same or valid.\n",
        "\n",
        "As already hinted, convolutions are not typically meant to be the sole operation in a CNN (although there have been promising recent developments on [all-convolutional networks](https://arxiv.org/pdf/1412.6806v3.pdf)); but rather to extract useful features of an image prior to downsampling it sufficiently to be manageable by an MLP.\n",
        "\n",
        "A very popular approach to downsampling is a *pooling* layer, which consumes small and (usually) disjoint chunks of the image (typically $2\\times 2$) and aggregates them into a single value. There are several possible schemes for the aggregation---the most popular being **max-pooling**, where the maximum pixel value within each chunk is taken. A diagrammatical illustration of $2\\times 2$ max-pooling is given below.\n",
        "\n",
        "![](http://perso.mines-paristech.fr/fabien.moutarde/ES_MachineLearning/TP_convNets/pool.png)"
      ]
    },
    {
      "cell_type": "markdown",
      "metadata": {
        "id": "-_DYmVMJafa9"
      },
      "source": [
        "## 4. Convolutional Neural Network (CNN) architecture\n",
        "\n",
        "Now that we got all the building blocks, let's see what a typical convolutional neural network might look like!\n",
        "\n",
        "![](http://perso.mines-paristech.fr/fabien.moutarde/ES_MachineLearning/TP_convNets/cnn.png)\n",
        "\n",
        "A typical CNN architecture for a $k$-class image classification can be split into two distinct parts---a chain of repeating $\\mathrm{Conv}\\rightarrow\\mathrm{Pool}$ layers (sometimes with more than one convolutional layer at once), followed by a few fully connected layers (taking each pixel of the computed images as an independent input), culminating in a $k$-way softmax layer, to which a cross-entropy loss is optimised. I did not draw the activation functions here to make the sketch clearer, but do keep in mind that typically after every convolutional or fully connected layer, an activation (e.g. ReLU) will be applied to all of the outputs.\n",
        "\n",
        "Note the effect of a single $\\mathrm{Conv}\\rightarrow\\mathrm{Pool}$ pass through the image: it reduces height and width of the individual channels in favour of their number, i.e. *depth*.\n",
        "\n",
        "The softmax layer and cross-entropy loss are both introduced in more detail [in the previous tutorial](http://online.cambridgecoding.com/notebooks/cca_admin/deep-learning-for-complete-beginners-recognising-handwritten-digits). For summarisation purposes, a softmax layer's purpose is converting any vector of real numbers into a vector of *probabilities* (nonnegative real values that add up to 1). Within this context, the probabilities correspond to the likelihoods that an input image is a member of a particular class. Minimising the cross-entropy loss has the effect of maximising the model's confidence in the *correct* class, without being concerned for the probabilites for other classes---this makes it a more suitable choice for probabilistic tasks compared to, for example, the squared error loss."
      ]
    },
    {
      "cell_type": "markdown",
      "metadata": {
        "id": "gvHal3Gjafa_"
      },
      "source": [
        "## 5. Detour: Overfitting, regularisation and dropout\n",
        "\n",
        "This will be the first (and hopefully the only) time when I will divert your attention to a seemingly unrelated topic. It regards a very important pitfall of machine learning---**overfitting** a model to the training data. While this is primarily going to be a major topic of the next tutorial in the series, the negative effects of overfitting will tend to become quite noticeable on the networks like the one we are about to build, and we need to introduce a way to properly protect ourselves against it, before going any further. Luckily, there is a very simple technique we can use.\n",
        "\n",
        "Overfitting corresponds to adapting our model to the training set to such extremes that its generalisation potential (performance on samples outside of the training set) is *severely* limited. In other words, our model might have learned the training set (along with any noise present within it) perfectly, but it has failed to capture the underlying process that generated it. To illustrate, consider a problem of fitting a sine curve, with white additive noise applied to the data points: \n",
        "\n",
        "![](http://perso.mines-paristech.fr/fabien.moutarde/ES_MachineLearning/TP_convNets/plotsin.png)\n",
        "\n",
        "Here we have a training set (denoted by blue circles) derived from the original sine wave, along with some noise. If we fit a degree-3 polynomial to this data, we get a fairly good approximation to the original curve. Someone might argue that a degree-14 polynomial would do better; indeed, given we have 15 points, such a fit would *perfectly* describe the training data. However, in this case, the additional parameters of the model cause catastrophic results: to cope with the inherent noise of the data, anywhere except in the closest vicinity of the training points, our fit is completely off.\n",
        "\n",
        "Deep convolutional neural networks have a large number of parameters, especially in the fully connected layers. Overfitting might often manifest in the following form: if we don't have sufficiently many training examples, a small group of neurons might become responsible for doing most of the processing and other neurons becoming redundant; or in the other extreme, some neurons might actually become detrimental to performance, with several other neurons of their layer ending up doing nothing else but correcting for their errors.\n",
        "\n",
        "To help our models generalise better in these circumstances, we introduce techniques of *regularisation*: rather than reducing the number of parameters, we impose *constraints* on the model parameters during training to keep them from learning the noise in the training data. The particular method I will introduce here is **dropout**---a technique that initially might seem like \"dark magic\", but actually helps to eliminate exactly the failure modes described above. Namely, dropout with parameter $p$ will, within a single training iteration, go through all neurons in a particular layer and, with probability $p$, *completely eliminate them from the network throughout the iteration*. This has the effect of forcing the neural network to cope with *failures*, and not to rely on existence of a particular neuron (or set of neurons)---relying more on a *consensus* of several neurons within a layer. This is a very simple technique that works quite well already for combatting overfitting on its own, without introducing further regularisers. An illustration is given below.\n",
        "\n",
        "![](http://perso.mines-paristech.fr/fabien.moutarde/ES_MachineLearning/TP_convNets/drop.png)"
      ]
    },
    {
      "cell_type": "markdown",
      "metadata": {
        "id": "eu5A5Fz_afa_"
      },
      "source": [
        "## 6. Applying a deep CNN to MNIST\n",
        "\n",
        "As this post's objective, we will implement a deep convolutional neural network---and apply it on the MNIST digit recognition classification task.\n"
      ]
    },
    {
      "cell_type": "markdown",
      "metadata": {
        "id": "3Bbt9WpRafbB"
      },
      "source": [
        "As already mentioned, a CNN will typically have more hyperparameters than an MLP. For the purposes of this tutorial, we will also stick to \"sensible\" hand-picked values for them, but do still keep in mind that later on I will introduce a more proper method for learning them.\n",
        "\n",
        "The hyperparameters are:\n",
        "- The *batch size*, representing the number of training examples being used simultaneously during a single iteration of the gradient descent algorithm;\n",
        "- The number of *epochs*, representing the number of times the training algorithm will iterate over the entire training set before terminating\\*;\n",
        "- The *kernel sizes* in the convolutional layers;\n",
        "- The *pooling size* in the pooling layers;\n",
        "- The *number of kernels* in the convolutional layers;\n",
        "- The *dropout probability* (we will apply dropout after each pooling, and after the fully connected layer);\n",
        "- The *number of neurons* in the fully connected layer of the MLP.\n",
        "\n",
        "\\* **N.B. here I have set the number of epochs to 100, which might be undesirably slow if you do not have a GPU at your disposal (the convolution layers are going to pose a significant performance bottleneck in this case). You might wish to decrease the epoch count and/or numbers of kernels if you are going to be training the network on a CPU.**\n"
      ]
    },
    {
      "cell_type": "markdown",
      "metadata": {
        "id": "i27RHvxSafbE"
      },
      "source": [
        "Modelling time! Our network has an architecture similar to LeNet5 of LeCun (see figure below). It will consist of two consecutive groups of one `Convolution2D` followed by  a `MaxPooling2D` layer. After the first pooling layer, the number of kernels is rougly doubled (in line with the previously mentioned principle of sacrificing height and width for more depth). Afterwards, the output of the second pooling layer is flattened to 1D (via the `Flatten` layer), and passed through one or two fully connected (`Dense`) layers. ReLU activations will once again be used for all layers except the output dense layer, which will use a softmax activation (for purposes of probabilistic classification).\n",
        "\n",
        "![](http://perso.mines-paristech.fr/fabien.moutarde/ES_MachineLearning/TP_convNets/lenet5.png)\n",
        "\n",
        "To regularise our model, a `Dropout` layer is applied after each pooling layer, and after the first `Dense` layer. This is another area where Keras shines compared to other frameworks: it has an internal flag that automatically enables or disables dropout, depending on whether the model is currently used for training or testing.\n",
        "\n",
        "The remainder of the model specification is the following:\n",
        "- We use the *cross-entropy* loss function as the objective to optimise (as its derivation is more appropriate for probabilistic tasks);\n",
        "- We use the [*Adam* optimiser for gradient descent](http://sebastianruder.com/optimizing-gradient-descent/);\n",
        "- We report the *accuracy* of the model (as the dataset is balanced across the ten classes)\\*;\n",
        "- We hold out 10% of the data for validation purposes.\n",
        "\n",
        "\\* To get a feeling for why accuracy might be inappropriate for unbalanced datasets, consider an extreme case where 90% of the test data belongs to class $x$ (this could be, for example, the task of diagnosing patients for an extremely rare disease). In this case, a classifier that just outputs $x$ achieves a seemingly impressive accuracy of 90% on the test data, without really doing any learning/generalisation."
      ]
    },
    {
      "cell_type": "markdown",
      "metadata": {
        "id": "W6IvdsLDafbF"
      },
      "source": [
        "This model, possibly after some tweaking of its architectural parameters, should be able to break $99\\%$ accuracy on its **test set** with little to no effort.\n"
      ]
    },
    {
      "cell_type": "markdown",
      "metadata": {
        "id": "WzRwr-JPafbI"
      },
      "source": [
        "## 7. Conclusion\n",
        "\n",
        "Throughout this post we have covered the essentials of convolutional neural networks, introduced the problem of overfitting, and made a very brief dent into how it could be rectified via regularisation (by applying dropout) and successfully implemented a two-layer deep CNN (with LeNet like architecture) in Keras, applying it to MNIST, all in under 50 lines of code. \n"
      ]
    },
    {
      "cell_type": "markdown",
      "metadata": {
        "id": "NUEvYeYTafbJ"
      },
      "source": [
        "## 8. Just show me the code!"
      ]
    },
    {
      "cell_type": "markdown",
      "metadata": {
        "id": "VnhMNn9m6YOP"
      },
      "source": [
        "This code assume your already have installed <code>numpy</code>, <code>keras</code>, <code>tensorflow</code>, ... on your computer. If not, uncomment the adequate lines in the cell below:"
      ]
    },
    {
      "cell_type": "code",
      "execution_count": null,
      "metadata": {
        "colab": {
          "base_uri": "https://localhost:8080/"
        },
        "id": "WBL5Mv9f6YOQ",
        "outputId": "bb4749a3-9eb4-40df-c773-237c323e352c"
      },
      "outputs": [
        {
          "name": "stdout",
          "output_type": "stream",
          "text": [
            "Your python version: 3\n"
          ]
        }
      ],
      "source": [
        "import sys\n",
        "print('Your python version: {}'.format(sys.version_info.major))\n",
        "# Uncomment lines below only if you need them \n",
        "#!{sys.executable} -m pip install -U numpy --user\n",
        "#!{sys.executable} -m pip install -U matplotlib --user\n",
        "#!{sys.executable} -m pip install -U tensorflow --user"
      ]
    },
    {
      "cell_type": "code",
      "execution_count": null,
      "metadata": {
        "colab": {
          "base_uri": "https://localhost:8080/"
        },
        "id": "jRM8mmQyafbe",
        "outputId": "18b7c39e-19a1-4ba3-b4c9-df195002bbe0"
      },
      "outputs": [
        {
          "name": "stdout",
          "output_type": "stream",
          "text": [
            "Your tensorflow version: 2.7.0\n",
            "GPU : /device:GPU:0\n"
          ]
        }
      ],
      "source": [
        "\n",
        "import tensorflow\n",
        "print('Your tensorflow version: {}'.format(tensorflow.__version__))\n",
        "print(\"GPU : \"+tensorflow.test.gpu_device_name())\n",
        "\n",
        "import os \n",
        "os.environ['PYTHONHASHSEED'] = '0'\n",
        "os.environ[\"CUDA_DEVICE_ORDER\"]=\"PCI_BUS_ID\"   \n",
        "os.environ[\"CUDA_VISIBLE_DEVICES\"]=\"1\"\n"
      ]
    },
    {
      "cell_type": "code",
      "execution_count": null,
      "metadata": {
        "colab": {
          "base_uri": "https://localhost:8080/"
        },
        "id": "-PsRmEbZafbi",
        "outputId": "40f9e291-f9aa-466e-be9b-7d2b9208f69d",
        "scrolled": true
      },
      "outputs": [
        {
          "name": "stdout",
          "output_type": "stream",
          "text": [
            "Downloading data from https://storage.googleapis.com/tensorflow/tf-keras-datasets/train-labels-idx1-ubyte.gz\n",
            "32768/29515 [=================================] - 0s 0us/step\n",
            "40960/29515 [=========================================] - 0s 0us/step\n",
            "Downloading data from https://storage.googleapis.com/tensorflow/tf-keras-datasets/train-images-idx3-ubyte.gz\n",
            "26427392/26421880 [==============================] - 0s 0us/step\n",
            "26435584/26421880 [==============================] - 0s 0us/step\n",
            "Downloading data from https://storage.googleapis.com/tensorflow/tf-keras-datasets/t10k-labels-idx1-ubyte.gz\n",
            "16384/5148 [===============================================================================================] - 0s 0us/step\n",
            "Downloading data from https://storage.googleapis.com/tensorflow/tf-keras-datasets/t10k-images-idx3-ubyte.gz\n",
            "4423680/4422102 [==============================] - 0s 0us/step\n",
            "4431872/4422102 [==============================] - 0s 0us/step\n",
            "(60000, 28, 28, 1) (60000, 10)\n"
          ]
        }
      ],
      "source": [
        "import numpy as np\n",
        "from tensorflow.keras.datasets import mnist, fashion_mnist # subroutines for fetching the MNIST dataset\n",
        "# --------------------------------------\n",
        "# Dataset variables\n",
        "# --------------------------------------\n",
        "num_train = 60000 # there are 60000 training examples in MNIST\n",
        "num_test = 10000  # there are 10000 test examples in MNIST\n",
        "height, width, depth = 28, 28, 1 # MNIST images are 28x28 with 1 channel (greyscale)\n",
        "num_classes = 10                 # there are 10 classes (1 per digit)\n",
        "\n",
        "# --------------------------------------\n",
        "# Dataset loading & preprocessing\n",
        "# --------------------------------------\n",
        "(X_train, y_train), (X_test, y_test) = mnist.load_data() # fetch MNIST data or fashion_mnist.load_data()\n",
        "\n",
        "X_train = X_train.astype('float32') \n",
        "X_test = X_test.astype('float32')\n",
        "X_train /= 255 # Normalise data to [0, 1] range\n",
        "X_test /= 255 # Normalise data to [0, 1] range\n",
        "\n",
        "X_train = X_train[:, :, :, np.newaxis] # Reshape in \"convolutionable\" format (add tensor dim for the depth)\n",
        "X_test = X_test[:, :, :, np.newaxis] # Reshape in \"convolutionable\" format (add tensor dim for the depth)\n",
        "\n",
        "# One-hot encode the labels\n",
        "Y_train = np.eye(num_classes)[y_train]\n",
        "Y_test = np.eye(num_classes)[y_test]\n",
        "\n",
        "print(X_train.shape, Y_train.shape)"
      ]
    },
    {
      "cell_type": "code",
      "execution_count": null,
      "metadata": {
        "colab": {
          "base_uri": "https://localhost:8080/",
          "height": 98
        },
        "id": "OZJHTzFP0DiM",
        "outputId": "97c87d9b-c05b-4497-891d-b811344074fc"
      },
      "outputs": [
        {
          "data": {
            "image/png": "[encoded data removed]",
            "text/plain": [
              "<Figure size 1080x2880 with 15 Axes>"
            ]
          },
          "metadata": {
            "needs_background": "light"
          },
          "output_type": "display_data"
        }
      ],
      "source": [
        "from PIL import Image \n",
        "import matplotlib.pyplot as plt\n",
        "f, ax = plt.subplots(1,15)\n",
        "f.set_size_inches(15, 40)\n",
        "for i in range(15):\n",
        "    ax[i].imshow(X_train[i].reshape(28, 28),cmap='gray')\n",
        "plt.show()\n",
        "\n",
        "####Pour avoir des vêtements remplacer le loader mnist par fashion_mnist cell d'au dessus\n",
        "#from tensorflow.keras.datasets import mnist, fashion_mnist \n",
        "# (X_train, y_train), (X_test, y_test) = fashion_mnist.load_data() + normalization classique "
      ]
    },
    {
      "cell_type": "code",
      "execution_count": null,
      "metadata": {
        "colab": {
          "base_uri": "https://localhost:8080/"
        },
        "id": "YU9Q3hsmafbk",
        "outputId": "57a4f4db-3260-43fa-ee31-a0f896da26dc",
        "scrolled": true
      },
      "outputs": [
        {
          "name": "stdout",
          "output_type": "stream",
          "text": [
            "Model: \"sequential\"\n",
            "_________________________________________________________________\n",
            " Layer (type)                Output Shape              Param #   \n",
            "=================================================================\n",
            " conv2d (Conv2D)             (None, 28, 28, 6)         156       \n",
            "                                                                 \n",
            " max_pooling2d (MaxPooling2D  (None, 14, 14, 6)        0         \n",
            " )                                                               \n",
            "                                                                 \n",
            " dropout (Dropout)           (None, 14, 14, 6)         0         \n",
            "                                                                 \n",
            " conv2d_1 (Conv2D)           (None, 14, 14, 16)        2416      \n",
            "                                                                 \n",
            " max_pooling2d_1 (MaxPooling  (None, 7, 7, 16)         0         \n",
            " 2D)                                                             \n",
            "                                                                 \n",
            " dropout_1 (Dropout)         (None, 7, 7, 16)          0         \n",
            "                                                                 \n",
            " flatten (Flatten)           (None, 784)               0         \n",
            "                                                                 \n",
            " dense (Dense)               (None, 128)               100480    \n",
            "                                                                 \n",
            " dropout_2 (Dropout)         (None, 128)               0         \n",
            "                                                                 \n",
            " dense_1 (Dense)             (None, 10)                1290      \n",
            "                                                                 \n",
            "=================================================================\n",
            "Total params: 104,342\n",
            "Trainable params: 104,342\n",
            "Non-trainable params: 0\n",
            "_________________________________________________________________\n",
            "None\n"
          ]
        }
      ],
      "source": [
        "\n",
        "import tensorflow.keras\n",
        "from tensorflow.keras import regularizers\n",
        "from tensorflow.keras.datasets import mnist # subroutines for fetching the MNIST dataset\n",
        "from tensorflow.keras.models import Model, Sequential # basic class for specifying and training a neural network\n",
        "from tensorflow.keras.layers import Input, Conv2D, MaxPooling2D, Dense, Dropout, Activation, Flatten \n",
        "# --------------------------------------\n",
        "# Network params\n",
        "# --------------------------------------\n",
        "# Network params\n",
        "batch_size = 32    # in each iteration, we consider 32 training examples at once\n",
        "num_epochs = 12    # we iterate 12 times over the entire training set\n",
        "kernel_size = 5    # we will use 5x5 kernels throughout\n",
        "pool_size = 2      # we will use 2x2 pooling throughout\n",
        "conv_depth_1 = 6   # we will initially have 6 kernels in first conv. layer...\n",
        "conv_depth_2 = 16  # ...switching to 16 after the first pooling layer\n",
        "drop_prob_1 = 0.   # dropout after pooling with probability 0.\n",
        "drop_prob_2 = 0.   # dropout in the FC layer with probability 0.\n",
        "hidden_size = 128  # the FC layer will have 128neurons\n",
        "weight_penalty = 0. # Factor for weights penalty\n",
        "\n",
        "# --------------------------------------\n",
        "# CNN network definition \n",
        "# --------------------------------------\n",
        "# inp = Input(shape=(1,height,width)) # greyscale --> depth==1\n",
        "# model = Model(input=inp, output=out) # To define a model, just specify its input and output layers\n",
        "\n",
        "model = Sequential()\n",
        "# Conv [8] -> Pool (with dropout on the pooling layer)\n",
        "model.add( Conv2D(conv_depth_1, (kernel_size,kernel_size), padding='same', activation='relu', data_format=\"channels_last\", input_shape=( 28, 28, 1)) )\n",
        "model.add( MaxPooling2D(pool_size=(pool_size, pool_size)) )\n",
        "model.add( Dropout(drop_prob_1) )\n",
        "\n",
        "# Conv [16] -> Pool (with dropout on the pooling layer)\n",
        "model.add( Conv2D(conv_depth_2, (kernel_size,kernel_size), padding='same', activation='relu') )\n",
        "model.add( MaxPooling2D(pool_size=(pool_size, pool_size)) )\n",
        "model.add( Dropout(drop_prob_1) )\n",
        "\n",
        "# Now flatten to 1D, apply FC -> ReLU (with dropout) -> softmax\n",
        "model.add( Flatten() )\n",
        "model.add( Dense(hidden_size, activation='relu', kernel_regularizer=regularizers.l2(weight_penalty)) )\n",
        "model.add( Dropout(drop_prob_2) )\n",
        "model.add( Dense(num_classes, activation='softmax') )\n",
        "\n",
        "print(model.summary())"
      ]
    },
    {
      "cell_type": "code",
      "execution_count": null,
      "metadata": {
        "id": "ucwjOFe60tz3"
      },
      "outputs": [],
      "source": [
        "#from keras.utils.vis_utils import plot_model\n",
        "#plot_model(model, show_shapes =True, show_layer_names=True)"
      ]
    },
    {
      "cell_type": "code",
      "execution_count": null,
      "metadata": {
        "colab": {
          "base_uri": "https://localhost:8080/"
        },
        "id": "tGoXjiL8afbm",
        "outputId": "6facb217-7225-44db-8888-98f777e3ff83",
        "scrolled": true
      },
      "outputs": [
        {
          "name": "stdout",
          "output_type": "stream",
          "text": [
            "Epoch 1/12\n",
            "1125/1125 [==============================] - 18s 7ms/step - loss: 0.2094 - accuracy: 0.9362 - val_loss: 0.1007 - val_accuracy: 0.9675\n",
            "Epoch 2/12\n",
            "1125/1125 [==============================] - 8s 7ms/step - loss: 0.0714 - accuracy: 0.9779 - val_loss: 0.0679 - val_accuracy: 0.9790\n",
            "Epoch 3/12\n",
            "1125/1125 [==============================] - 8s 7ms/step - loss: 0.0500 - accuracy: 0.9839 - val_loss: 0.0637 - val_accuracy: 0.9804\n",
            "Epoch 4/12\n",
            "1125/1125 [==============================] - 8s 7ms/step - loss: 0.0369 - accuracy: 0.9884 - val_loss: 0.0652 - val_accuracy: 0.9808\n",
            "Epoch 5/12\n",
            "1125/1125 [==============================] - 8s 7ms/step - loss: 0.0297 - accuracy: 0.9907 - val_loss: 0.0568 - val_accuracy: 0.9839\n",
            "Epoch 6/12\n",
            "1125/1125 [==============================] - 7s 7ms/step - loss: 0.0248 - accuracy: 0.9912 - val_loss: 0.0500 - val_accuracy: 0.9857\n",
            "Epoch 7/12\n",
            "1125/1125 [==============================] - 7s 7ms/step - loss: 0.0172 - accuracy: 0.9944 - val_loss: 0.0682 - val_accuracy: 0.9823\n",
            "Epoch 8/12\n",
            "1125/1125 [==============================] - 7s 7ms/step - loss: 0.0162 - accuracy: 0.9942 - val_loss: 0.0552 - val_accuracy: 0.9869\n",
            "Epoch 9/12\n",
            "1125/1125 [==============================] - 7s 7ms/step - loss: 0.0136 - accuracy: 0.9956 - val_loss: 0.0545 - val_accuracy: 0.9867\n",
            "Epoch 10/12\n",
            "1125/1125 [==============================] - 8s 7ms/step - loss: 0.0110 - accuracy: 0.9965 - val_loss: 0.0987 - val_accuracy: 0.9784\n",
            "Epoch 11/12\n",
            "1125/1125 [==============================] - 8s 7ms/step - loss: 0.0130 - accuracy: 0.9953 - val_loss: 0.0628 - val_accuracy: 0.9850\n",
            "Epoch 12/12\n",
            "1125/1125 [==============================] - 7s 7ms/step - loss: 0.0075 - accuracy: 0.9975 - val_loss: 0.0637 - val_accuracy: 0.9856\n",
            "313/313 [==============================] - 2s 5ms/step - loss: 0.0430 - accuracy: 0.9879\n",
            "The final loss on the TEST set is: 0.04.\n",
            "The final accuracy on the TEST set is: 0.99.\n"
          ]
        }
      ],
      "source": [
        "# --------------------------------------\n",
        "# Loss function and Optimizer\n",
        "# --------------------------------------\n",
        "model.compile(loss='categorical_crossentropy', # using the cross-entropy loss function\n",
        "              optimizer='adam', # using the Adam optimiser\n",
        "              metrics=['accuracy']) # reporting the accuracy\n",
        "\n",
        "# --------------------------------------\n",
        "# Training\n",
        "# --------------------------------------\n",
        "history = model.fit(X_train, Y_train, # Train the model using the training set...\n",
        "          batch_size=batch_size, epochs=num_epochs,\n",
        "          verbose=1, validation_split=0.4) # ...holding out 40% of the data for validation\n",
        "\n",
        "# --------------------------------------\n",
        "# Evaluation\n",
        "# --------------------------------------\n",
        "for loss_name, loss_value in list(zip(model.metrics_names, model.evaluate(X_test, Y_test, verbose=1))):\n",
        "    print('The final {} on the TEST set is: {:.2f}.'.format(loss_name, loss_value)) # Evaluate the trained model on the test set!"
      ]
    },
    {
      "cell_type": "markdown",
      "metadata": {
        "id": "2-Tm9hsmGk0F"
      },
      "source": [
        "**Plot the training history, in order to check if overfitting seems to have occured or not, and if more training epochs could be performed.**\n"
      ]
    },
    {
      "cell_type": "code",
      "execution_count": null,
      "metadata": {
        "colab": {
          "base_uri": "https://localhost:8080/",
          "height": 295
        },
        "id": "4RJwykPsbrJ2",
        "outputId": "05d1a8ab-e637-4e2d-db2b-b5d1ee84253b"
      },
      "outputs": [
        {
          "data": {
            "image/png": "[encoded data removed]",
            "text/plain": [
              "<Figure size 432x288 with 1 Axes>"
            ]
          },
          "metadata": {
            "needs_background": "light"
          },
          "output_type": "display_data"
        }
      ],
      "source": [
        "import matplotlib.pyplot as plt\n",
        "# --------------------------------------\n",
        "# Loss functions evolution\n",
        "# --------------------------------------\n",
        "plt.plot(history.history['loss'])\n",
        "plt.plot(history.history['val_loss'])\n",
        "plt.title('Model loss by epoch')\n",
        "plt.ylabel('loss')\n",
        "plt.xlabel('epoch')\n",
        "plt.legend(['train', 'valid'], loc='right')\n",
        "plt.show()\n",
        "\n"
      ]
    },
    {
      "cell_type": "markdown",
      "metadata": {
        "id": "kzWPQqnOGu90"
      },
      "source": [
        "**You should see that over-fitting begins to occur.**\n"
      ]
    },
    {
      "cell_type": "markdown",
      "metadata": {
        "id": "0kEVLxH-7KHA"
      },
      "source": [
        "**Question 2: Search into [Keras documentation](https://keras.io/api/) how to enforce early-stopping, implement the slight modification in code-cell below, re-run and observe result. At which iteration does training stop now?**\n"
      ]
    },
    {
      "cell_type": "code",
      "execution_count": null,
      "metadata": {
        "colab": {
          "base_uri": "https://localhost:8080/",
          "height": 1000
        },
        "id": "hjpRcnbIFt_v",
        "outputId": "cccfde91-8032-49cc-a149-3bd7b8ad5f42"
      },
      "outputs": [
        {
          "name": "stdout",
          "output_type": "stream",
          "text": [
            "Model: \"sequential\"\n",
            "_________________________________________________________________\n",
            " Layer (type)                Output Shape              Param #   \n",
            "=================================================================\n",
            " conv2d (Conv2D)             (None, 28, 28, 6)         156       \n",
            "                                                                 \n",
            " max_pooling2d (MaxPooling2D  (None, 14, 14, 6)        0         \n",
            " )                                                               \n",
            "                                                                 \n",
            " dropout (Dropout)           (None, 14, 14, 6)         0         \n",
            "                                                                 \n",
            " conv2d_1 (Conv2D)           (None, 14, 14, 16)        2416      \n",
            "                                                                 \n",
            " max_pooling2d_1 (MaxPooling  (None, 7, 7, 16)         0         \n",
            " 2D)                                                             \n",
            "                                                                 \n",
            " dropout_1 (Dropout)         (None, 7, 7, 16)          0         \n",
            "                                                                 \n",
            " flatten (Flatten)           (None, 784)               0         \n",
            "                                                                 \n",
            " dense (Dense)               (None, 128)               100480    \n",
            "                                                                 \n",
            " dropout_2 (Dropout)         (None, 128)               0         \n",
            "                                                                 \n",
            " dense_1 (Dense)             (None, 10)                1290      \n",
            "                                                                 \n",
            "=================================================================\n",
            "Total params: 104,342\n",
            "Trainable params: 104,342\n",
            "Non-trainable params: 0\n",
            "_________________________________________________________________\n",
            "None\n",
            "Epoch 1/12\n",
            "1125/1125 [==============================] - 9s 8ms/step - loss: 0.2167 - accuracy: 0.9347 - val_loss: 0.0815 - val_accuracy: 0.9747\n",
            "Epoch 2/12\n",
            "1125/1125 [==============================] - 8s 7ms/step - loss: 0.0685 - accuracy: 0.9780 - val_loss: 0.0635 - val_accuracy: 0.9793\n",
            "Epoch 3/12\n",
            "1125/1125 [==============================] - 8s 7ms/step - loss: 0.0493 - accuracy: 0.9841 - val_loss: 0.0583 - val_accuracy: 0.9826\n",
            "Epoch 4/12\n",
            "1125/1125 [==============================] - 8s 7ms/step - loss: 0.0367 - accuracy: 0.9886 - val_loss: 0.0538 - val_accuracy: 0.9841\n",
            "Epoch 5/12\n",
            "1125/1125 [==============================] - 8s 7ms/step - loss: 0.0288 - accuracy: 0.9910 - val_loss: 0.0579 - val_accuracy: 0.9830\n",
            "Epoch 6/12\n",
            "1125/1125 [==============================] - 8s 7ms/step - loss: 0.0234 - accuracy: 0.9916 - val_loss: 0.0551 - val_accuracy: 0.9843\n",
            "Epoch 7/12\n",
            "1125/1125 [==============================] - 7s 7ms/step - loss: 0.0173 - accuracy: 0.9945 - val_loss: 0.0570 - val_accuracy: 0.9855\n",
            "Epoch 00007: early stopping\n",
            "313/313 [==============================] - 2s 5ms/step - loss: 0.0393 - accuracy: 0.9878\n",
            "The final loss on the TEST set is: 0.04.\n",
            "The final accuracy on the TEST set is: 0.99.\n"
          ]
        },
        {
          "data": {
            "image/png": "[encoded data removed]",
            "text/plain": [
              "<Figure size 432x288 with 1 Axes>"
            ]
          },
          "metadata": {
            "needs_background": "light"
          },
          "output_type": "display_data"
        }
      ],
      "source": [
        "# Paste here code for training modified to enforce early-stopping, + visualize new training curves\n",
        "from tensorflow.keras.callbacks import EarlyStopping, ReduceLROnPlateau, ModelCheckpoint\n",
        "\n",
        "es = tensorflow.keras.callbacks.EarlyStopping(monitor = \"val_loss\", patience=3, verbose =1)\n",
        "#reducelr = tensorflow.keras.callbacks.ReduceLROnPlateau(monitor = \"val_loss\", patience=3, verbose=1,factor=0.1)\n",
        "#mc = tensorflow.keras.callbacks.ModelCheckpoint(monitor=\"val_loss\",filepath=\"best_val\")\n",
        "\n",
        "model_early_stopping = tensorflow.keras.models.clone_model(model)\n",
        "print(model_early_stopping.summary())\n",
        "\n",
        "model_early_stopping.compile(loss='categorical_crossentropy', # using the cross-entropy loss function\n",
        "              optimizer='adam', # using the Adam optimiser\n",
        "              metrics=['accuracy']) # reporting the accuracy\n",
        "\n",
        "# --------------------------------------\n",
        "# Training\n",
        "# --------------------------------------\n",
        "history = model_early_stopping.fit(X_train, Y_train, # Train the model using the training set...\n",
        "          batch_size=batch_size, epochs=num_epochs,\n",
        "          verbose=1, validation_split=0.4,callbacks=[es]) # ...holding out 40% of the data for validation\n",
        "\n",
        "# --------------------------------------\n",
        "# Evaluation\n",
        "# --------------------------------------\n",
        "for loss_name, loss_value in list(zip(model_early_stopping.metrics_names, model_early_stopping.evaluate(X_test, Y_test, verbose=1))):\n",
        "    print('The final {} on the TEST set is: {:.2f}.'.format(loss_name, loss_value)) # Evaluate the trained model on the test set!\n",
        "\n",
        "# --------------------------------------\n",
        "# Loss functions evolution\n",
        "# --------------------------------------\n",
        "plt.plot(history.history['loss'])\n",
        "plt.plot(history.history['val_loss'])\n",
        "plt.title('Model loss by epoch')\n",
        "plt.ylabel('loss')\n",
        "plt.xlabel('epoch')\n",
        "plt.legend(['train', 'valid'], loc='right')\n",
        "plt.show()\n"
      ]
    },
    {
      "cell_type": "markdown",
      "metadata": {
        "id": "llnwYQeXFvSk"
      },
      "source": [
        "**In order to obtain better training result, *you need to be able to train during more iterations before over-fitting starts to occur*. It is therefore needed not only to detect overfitting for stopping, but to also use some method that can MITIGATE overfitting so that it does NOT occur, or at least after many more iterations.**\n",
        "\n",
        "**Test those 2 methods SEPARATELY below, by copy-pasting the original code, modifying it, and running it.**"
      ]
    },
    {
      "cell_type": "code",
      "execution_count": null,
      "metadata": {
        "colab": {
          "base_uri": "https://localhost:8080/",
          "height": 1000
        },
        "id": "6VwKmaWQGy9U",
        "outputId": "acdea612-f7bb-4242-805d-1be0fd1f3e1a"
      },
      "outputs": [
        {
          "name": "stdout",
          "output_type": "stream",
          "text": [
            "Model: \"sequential_1\"\n",
            "_________________________________________________________________\n",
            " Layer (type)                Output Shape              Param #   \n",
            "=================================================================\n",
            " conv2d_2 (Conv2D)           (None, 28, 28, 6)         156       \n",
            "                                                                 \n",
            " max_pooling2d_2 (MaxPooling  (None, 14, 14, 6)        0         \n",
            " 2D)                                                             \n",
            "                                                                 \n",
            " dropout_3 (Dropout)         (None, 14, 14, 6)         0         \n",
            "                                                                 \n",
            " conv2d_3 (Conv2D)           (None, 14, 14, 16)        2416      \n",
            "                                                                 \n",
            " max_pooling2d_3 (MaxPooling  (None, 7, 7, 16)         0         \n",
            " 2D)                                                             \n",
            "                                                                 \n",
            " dropout_4 (Dropout)         (None, 7, 7, 16)          0         \n",
            "                                                                 \n",
            " flatten_1 (Flatten)         (None, 784)               0         \n",
            "                                                                 \n",
            " dense_2 (Dense)             (None, 128)               100480    \n",
            "                                                                 \n",
            " dropout_5 (Dropout)         (None, 128)               0         \n",
            "                                                                 \n",
            " dense_3 (Dense)             (None, 10)                1290      \n",
            "                                                                 \n",
            "=================================================================\n",
            "Total params: 104,342\n",
            "Trainable params: 104,342\n",
            "Non-trainable params: 0\n",
            "_________________________________________________________________\n",
            "None\n",
            "Epoch 1/150\n",
            "1125/1125 [==============================] - 9s 8ms/step - loss: 0.6537 - accuracy: 0.7884 - val_loss: 0.1501 - val_accuracy: 0.9597\n",
            "Epoch 2/150\n",
            "1125/1125 [==============================] - 8s 7ms/step - loss: 0.2916 - accuracy: 0.9114 - val_loss: 0.1126 - val_accuracy: 0.9683\n",
            "Epoch 3/150\n",
            "1125/1125 [==============================] - 8s 7ms/step - loss: 0.2381 - accuracy: 0.9273 - val_loss: 0.0962 - val_accuracy: 0.9729\n",
            "Epoch 4/150\n",
            "1125/1125 [==============================] - 8s 7ms/step - loss: 0.2084 - accuracy: 0.9357 - val_loss: 0.0815 - val_accuracy: 0.9778\n",
            "Epoch 5/150\n",
            "1125/1125 [==============================] - 8s 7ms/step - loss: 0.1967 - accuracy: 0.9397 - val_loss: 0.0736 - val_accuracy: 0.9792\n",
            "Epoch 6/150\n",
            "1125/1125 [==============================] - 8s 7ms/step - loss: 0.1826 - accuracy: 0.9435 - val_loss: 0.0675 - val_accuracy: 0.9806\n",
            "Epoch 7/150\n",
            "1125/1125 [==============================] - 8s 7ms/step - loss: 0.1765 - accuracy: 0.9443 - val_loss: 0.0673 - val_accuracy: 0.9798\n",
            "Epoch 8/150\n",
            "1125/1125 [==============================] - 8s 7ms/step - loss: 0.1673 - accuracy: 0.9490 - val_loss: 0.0625 - val_accuracy: 0.9820\n",
            "Epoch 9/150\n",
            "1125/1125 [==============================] - 8s 7ms/step - loss: 0.1609 - accuracy: 0.9510 - val_loss: 0.0614 - val_accuracy: 0.9818\n",
            "Epoch 10/150\n",
            "1125/1125 [==============================] - 8s 7ms/step - loss: 0.1584 - accuracy: 0.9509 - val_loss: 0.0632 - val_accuracy: 0.9826\n",
            "Epoch 11/150\n",
            "1125/1125 [==============================] - 8s 7ms/step - loss: 0.1559 - accuracy: 0.9523 - val_loss: 0.0658 - val_accuracy: 0.9818\n",
            "Epoch 12/150\n",
            "1125/1125 [==============================] - 8s 7ms/step - loss: 0.1514 - accuracy: 0.9529 - val_loss: 0.0615 - val_accuracy: 0.9837\n",
            "Epoch 00012: early stopping\n",
            "313/313 [==============================] - 2s 5ms/step - loss: 0.0513 - accuracy: 0.9848\n",
            "The final loss on the TEST set is: 0.05.\n",
            "The final accuracy on the TEST set is: 0.98.\n"
          ]
        },
        {
          "data": {
            "image/png": "[encoded data removed]",
            "text/plain": [
              "<Figure size 432x288 with 1 Axes>"
            ]
          },
          "metadata": {
            "needs_background": "light"
          },
          "output_type": "display_data"
        }
      ],
      "source": [
        "# Test ConvNet overfitting prevention method #1 Dropout\n",
        "\n",
        "batch_size = 32    # in each iteration, we consider 32 training examples at once\n",
        "num_epochs = 150   # we iterate 12 times over the entire training set\n",
        "kernel_size = 5    # we will use 5x5 kernels throughout\n",
        "pool_size = 2      # we will use 2x2 pooling throughout\n",
        "conv_depth_1 = 6   # we will initially have 6 kernels in first conv. layer...\n",
        "conv_depth_2 = 16  # ...switching to 16 after the first pooling layer\n",
        "drop_prob_1 = 0.5   # dropout after pooling with probability 0.\n",
        "drop_prob_2 = 0.5   # dropout in the FC layer with probability 0.\n",
        "hidden_size = 128  # the FC layer will have 128neurons\n",
        "weight_penalty = 0 # Factor for weights penalty\n",
        "\n",
        "# --------------------------------------\n",
        "# CNN network definition \n",
        "# --------------------------------------\n",
        "# inp = Input(shape=(1,height,width)) # greyscale --> depth==1\n",
        "# model = Model(input=inp, output=out) # To define a model, just specify its input and output layers\n",
        "\n",
        "model = Sequential()\n",
        "# Conv [8] -> Pool (with dropout on the pooling layer)\n",
        "model.add( Conv2D(conv_depth_1, (kernel_size,kernel_size), padding='same', activation='relu', data_format=\"channels_last\", input_shape=( 28, 28, 1)) )\n",
        "model.add( MaxPooling2D(pool_size=(pool_size, pool_size)) )\n",
        "model.add( Dropout(drop_prob_1) )\n",
        "\n",
        "# Conv [16] -> Pool (with dropout on the pooling layer)\n",
        "model.add( Conv2D(conv_depth_2, (kernel_size,kernel_size), padding='same', activation='relu') )\n",
        "model.add( MaxPooling2D(pool_size=(pool_size, pool_size)) )\n",
        "model.add( Dropout(drop_prob_1) )\n",
        "\n",
        "# Now flatten to 1D, apply FC -> ReLU (with dropout) -> softmax\n",
        "model.add( Flatten() )\n",
        "model.add( Dense(hidden_size, activation='relu', kernel_regularizer=regularizers.l2(weight_penalty)) )\n",
        "model.add( Dropout(drop_prob_2) )\n",
        "model.add( Dense(num_classes, activation='softmax') )\n",
        "\n",
        "print(model.summary())\n",
        "\n",
        "\n",
        "# --------------------------------------\n",
        "# Loss function and Optimizer\n",
        "# --------------------------------------\n",
        "model.compile(loss='categorical_crossentropy', # using the cross-entropy loss function\n",
        "              optimizer='adam', # using the Adam optimiser\n",
        "              metrics=['accuracy']) # reporting the accuracy\n",
        "\n",
        "# --------------------------------------\n",
        "# Training\n",
        "# --------------------------------------\n",
        "history = model.fit(X_train, Y_train, # Train the model using the training set...\n",
        "          batch_size=batch_size, epochs=num_epochs,\n",
        "          verbose=1, validation_split=0.4,callbacks=[es]) # ...holding out 40% of the data for validation\n",
        "\n",
        "# --------------------------------------\n",
        "# Evaluation\n",
        "# --------------------------------------\n",
        "for loss_name, loss_value in list(zip(model.metrics_names, model.evaluate(X_test, Y_test, verbose=1))):\n",
        "    print('The final {} on the TEST set is: {:.2f}.'.format(loss_name, loss_value)) # Evaluate the trained model on the test set!\n",
        "\n",
        "\n",
        "# --------------------------------------\n",
        "# Loss functions evolution\n",
        "# --------------------------------------\n",
        "plt.plot(history.history['loss'])\n",
        "plt.plot(history.history['val_loss'])\n",
        "plt.title('Model loss by epoch')\n",
        "plt.ylabel('loss')\n",
        "plt.xlabel('epoch')\n",
        "plt.legend(['train', 'valid'], loc='right')\n",
        "plt.show()\n",
        "\n",
        "\n",
        "\n",
        "##### https://twitter.com/aureliengeron/status/1110839223878184960\n"
      ]
    },
    {
      "cell_type": "code",
      "execution_count": null,
      "metadata": {
        "colab": {
          "base_uri": "https://localhost:8080/",
          "height": 1000
        },
        "id": "S9rW0u2c7KHC",
        "outputId": "4912eba1-b73d-4e0a-99e7-12d18bfec3e5"
      },
      "outputs": [
        {
          "name": "stdout",
          "output_type": "stream",
          "text": [
            "Model: \"sequential_2\"\n",
            "_________________________________________________________________\n",
            " Layer (type)                Output Shape              Param #   \n",
            "=================================================================\n",
            " conv2d_4 (Conv2D)           (None, 28, 28, 6)         156       \n",
            "                                                                 \n",
            " max_pooling2d_4 (MaxPooling  (None, 14, 14, 6)        0         \n",
            " 2D)                                                             \n",
            "                                                                 \n",
            " dropout_6 (Dropout)         (None, 14, 14, 6)         0         \n",
            "                                                                 \n",
            " conv2d_5 (Conv2D)           (None, 14, 14, 16)        2416      \n",
            "                                                                 \n",
            " max_pooling2d_5 (MaxPooling  (None, 7, 7, 16)         0         \n",
            " 2D)                                                             \n",
            "                                                                 \n",
            " dropout_7 (Dropout)         (None, 7, 7, 16)          0         \n",
            "                                                                 \n",
            " flatten_2 (Flatten)         (None, 784)               0         \n",
            "                                                                 \n",
            " dense_4 (Dense)             (None, 128)               100480    \n",
            "                                                                 \n",
            " dropout_8 (Dropout)         (None, 128)               0         \n",
            "                                                                 \n",
            " dense_5 (Dense)             (None, 10)                1290      \n",
            "                                                                 \n",
            "=================================================================\n",
            "Total params: 104,342\n",
            "Trainable params: 104,342\n",
            "Non-trainable params: 0\n",
            "_________________________________________________________________\n",
            "None\n",
            "Epoch 1/150\n",
            "1125/1125 [==============================] - 9s 8ms/step - loss: 0.4762 - accuracy: 0.9277 - val_loss: 0.2491 - val_accuracy: 0.9487\n",
            "Epoch 2/150\n",
            "1125/1125 [==============================] - 8s 7ms/step - loss: 0.1865 - accuracy: 0.9675 - val_loss: 0.1894 - val_accuracy: 0.9660\n",
            "Epoch 3/150\n",
            "1125/1125 [==============================] - 8s 7ms/step - loss: 0.1619 - accuracy: 0.9727 - val_loss: 0.1815 - val_accuracy: 0.9650\n",
            "Epoch 4/150\n",
            "1125/1125 [==============================] - 8s 7ms/step - loss: 0.1507 - accuracy: 0.9739 - val_loss: 0.1554 - val_accuracy: 0.9727\n",
            "Epoch 5/150\n",
            "1125/1125 [==============================] - 8s 7ms/step - loss: 0.1410 - accuracy: 0.9768 - val_loss: 0.1421 - val_accuracy: 0.9765\n",
            "Epoch 6/150\n",
            "1125/1125 [==============================] - 8s 7ms/step - loss: 0.1294 - accuracy: 0.9787 - val_loss: 0.1332 - val_accuracy: 0.9785\n",
            "Epoch 7/150\n",
            "1125/1125 [==============================] - 8s 7ms/step - loss: 0.1250 - accuracy: 0.9795 - val_loss: 0.1322 - val_accuracy: 0.9780\n",
            "Epoch 8/150\n",
            "1125/1125 [==============================] - 8s 7ms/step - loss: 0.1181 - accuracy: 0.9818 - val_loss: 0.1225 - val_accuracy: 0.9812\n",
            "Epoch 9/150\n",
            "1125/1125 [==============================] - 7s 7ms/step - loss: 0.1135 - accuracy: 0.9814 - val_loss: 0.1195 - val_accuracy: 0.9810\n",
            "Epoch 10/150\n",
            "1125/1125 [==============================] - 8s 7ms/step - loss: 0.1104 - accuracy: 0.9829 - val_loss: 0.1296 - val_accuracy: 0.9774\n",
            "Epoch 11/150\n",
            "1125/1125 [==============================] - 8s 7ms/step - loss: 0.1049 - accuracy: 0.9832 - val_loss: 0.1770 - val_accuracy: 0.9630\n",
            "Epoch 12/150\n",
            "1125/1125 [==============================] - 8s 7ms/step - loss: 0.1015 - accuracy: 0.9837 - val_loss: 0.1049 - val_accuracy: 0.9831\n",
            "Epoch 13/150\n",
            "1125/1125 [==============================] - 8s 7ms/step - loss: 0.0980 - accuracy: 0.9843 - val_loss: 0.1057 - val_accuracy: 0.9824\n",
            "Epoch 14/150\n",
            "1125/1125 [==============================] - 8s 7ms/step - loss: 0.0930 - accuracy: 0.9854 - val_loss: 0.1096 - val_accuracy: 0.9807\n",
            "Epoch 15/150\n",
            "1125/1125 [==============================] - 8s 7ms/step - loss: 0.0903 - accuracy: 0.9860 - val_loss: 0.0931 - val_accuracy: 0.9852\n",
            "Epoch 16/150\n",
            "1125/1125 [==============================] - 8s 7ms/step - loss: 0.0891 - accuracy: 0.9857 - val_loss: 0.1196 - val_accuracy: 0.9782\n",
            "Epoch 17/150\n",
            "1125/1125 [==============================] - 8s 7ms/step - loss: 0.0865 - accuracy: 0.9869 - val_loss: 0.0918 - val_accuracy: 0.9848\n",
            "Epoch 18/150\n",
            "1125/1125 [==============================] - 8s 7ms/step - loss: 0.0845 - accuracy: 0.9864 - val_loss: 0.1059 - val_accuracy: 0.9829\n",
            "Epoch 19/150\n",
            "1125/1125 [==============================] - 8s 8ms/step - loss: 0.0823 - accuracy: 0.9867 - val_loss: 0.1118 - val_accuracy: 0.9802\n",
            "Epoch 20/150\n",
            "1125/1125 [==============================] - 8s 7ms/step - loss: 0.0787 - accuracy: 0.9873 - val_loss: 0.0946 - val_accuracy: 0.9839\n",
            "Epoch 00020: early stopping\n",
            "313/313 [==============================] - 2s 5ms/step - loss: 0.0821 - accuracy: 0.9858\n",
            "The final loss on the TEST set is: 0.08.\n",
            "The final accuracy on the TEST set is: 0.99.\n"
          ]
        },
        {
          "data": {
            "image/png": "[encoded data removed]",
            "text/plain": [
              "<Figure size 432x288 with 1 Axes>"
            ]
          },
          "metadata": {
            "needs_background": "light"
          },
          "output_type": "display_data"
        }
      ],
      "source": [
        "#Test ConvNet overfitting prevention method #2\n",
        "# Test ConvNet overfitting prevention method #1 Dropout\n",
        "\n",
        "batch_size = 32    # in each iteration, we consider 32 training examples at once\n",
        "num_epochs = 150   # we iterate 12 times over the entire training set\n",
        "kernel_size = 5    # we will use 5x5 kernels throughout\n",
        "pool_size = 2      # we will use 2x2 pooling throughout\n",
        "conv_depth_1 = 6   # we will initially have 6 kernels in first conv. layer...\n",
        "conv_depth_2 = 16  # ...switching to 16 after the first pooling layer\n",
        "drop_prob_1 = 0   # dropout after pooling with probability 0.\n",
        "drop_prob_2 = 0   # dropout in the FC layer with probability 0.\n",
        "hidden_size = 128  # the FC layer will have 128neurons\n",
        "weight_penalty = 0.01 # Factor for weights penalty\n",
        "\n",
        "# --------------------------------------\n",
        "# CNN network definition \n",
        "# --------------------------------------\n",
        "# inp = Input(shape=(1,height,width)) # greyscale --> depth==1\n",
        "# model = Model(input=inp, output=out) # To define a model, just specify its input and output layers\n",
        "\n",
        "model = Sequential()\n",
        "# Conv [8] -> Pool (with dropout on the pooling layer)\n",
        "model.add( Conv2D(conv_depth_1, (kernel_size,kernel_size), padding='same', activation='relu', data_format=\"channels_last\", input_shape=( 28, 28, 1)) )\n",
        "model.add( MaxPooling2D(pool_size=(pool_size, pool_size)) )\n",
        "model.add( Dropout(drop_prob_1) )\n",
        "\n",
        "# Conv [16] -> Pool (with dropout on the pooling layer)\n",
        "model.add( Conv2D(conv_depth_2, (kernel_size,kernel_size), padding='same', activation='relu') )\n",
        "model.add( MaxPooling2D(pool_size=(pool_size, pool_size)) )\n",
        "model.add( Dropout(drop_prob_1) )\n",
        "\n",
        "# Now flatten to 1D, apply FC -> ReLU (with dropout) -> softmax\n",
        "model.add( Flatten() )\n",
        "model.add( Dense(hidden_size, activation='relu', kernel_regularizer=regularizers.l2(weight_penalty)) )\n",
        "model.add( Dropout(drop_prob_2) )\n",
        "model.add( Dense(num_classes, activation='softmax') )\n",
        "\n",
        "print(model.summary())\n",
        "\n",
        "\n",
        "# --------------------------------------\n",
        "# Loss function and Optimizer\n",
        "# --------------------------------------\n",
        "model.compile(loss='categorical_crossentropy', # using the cross-entropy loss function\n",
        "              optimizer='adam', # using the Adam optimiser\n",
        "              metrics=['accuracy']) # reporting the accuracy\n",
        "\n",
        "# --------------------------------------\n",
        "# Training\n",
        "# --------------------------------------\n",
        "history = model.fit(X_train, Y_train, # Train the model using the training set...\n",
        "          batch_size=batch_size, epochs=num_epochs,\n",
        "          verbose=1, validation_split=0.4,callbacks=[es]) # ...holding out 40% of the data for validation\n",
        "\n",
        "# --------------------------------------\n",
        "# Evaluation\n",
        "# --------------------------------------\n",
        "for loss_name, loss_value in list(zip(model.metrics_names, model.evaluate(X_test, Y_test, verbose=1))):\n",
        "    print('The final {} on the TEST set is: {:.2f}.'.format(loss_name, loss_value)) # Evaluate the trained model on the test set!\n",
        "\n",
        "\n",
        "# --------------------------------------\n",
        "# Loss functions evolution\n",
        "# --------------------------------------\n",
        "plt.plot(history.history['loss'])\n",
        "plt.plot(history.history['val_loss'])\n",
        "plt.title('Model loss by epoch')\n",
        "plt.ylabel('loss')\n",
        "plt.xlabel('epoch')\n",
        "plt.legend(['train', 'valid'], loc='right')\n",
        "plt.show()\n"
      ]
    },
    {
      "cell_type": "markdown",
      "metadata": {
        "id": "r15XDcXn7KHF"
      },
      "source": [
        "**FINAL ASSIGNMENT:**\n",
        "\n",
        "**Test on your own examples: 1/ draw yourself by hand (for example in Microsoft Paint or equivalent image editor, or on paper that you photograph afterwards with your smartphone) a few examples for each class of handwritten digits; 2/ rescale and crop your images so that their size is 28x28 pixels with nearly no white borders around digits, and make sure they are saved as grayscale or even black-and-white; 3/ In the code cell below, load your images, plot them, and then feed each one into your best trained ConvNet and display for each one the class probabilities estimated by your ConvNet:**"
      ]
    },
    {
      "cell_type": "code",
      "execution_count": null,
      "metadata": {
        "colab": {
          "base_uri": "https://localhost:8080/",
          "height": 320
        },
        "id": "Z70BVmgi7KHF",
        "outputId": "c9ca0b28-e088-48f7-cdba-691e401ea5d4"
      },
      "outputs": [
        {
          "name": "stdout",
          "output_type": "stream",
          "text": [
            "(85, 71, 3)\n"
          ]
        },
        {
          "data": {
            "image/png": "[encoded data removed]",
            "text/plain": [
              "<Figure size 432x288 with 1 Axes>"
            ]
          },
          "metadata": {
            "needs_background": "light"
          },
          "output_type": "display_data"
        },
        {
          "name": "stdout",
          "output_type": "stream",
          "text": [
            "[[0. 0. 0. 0. 0. 0. 0. 0. 1. 0.]]\n",
            "8\n"
          ]
        }
      ],
      "source": [
        "import imageio\n",
        "from numpy import newaxis\n",
        "from tensorflow.image import resize\n",
        "\n",
        "\n",
        "\n",
        "im = imageio.imread('/content/exemple_mnist_tp.png')\n",
        "print(im.shape)\n",
        "imgplot = plt.imshow(im)\n",
        "plt.show()\n",
        "\n",
        "resized = tensorflow.image.resize(im, [28,28])\n",
        "\n",
        "\n",
        "gray_scale = resized[:,:,0]\n",
        "image_to_infer = gray_scale[newaxis,:, :, newaxis]\n",
        "prediction = model.predict(image_to_infer)\n",
        "print(prediction)\n",
        "print(np.argmax(prediction))"
      ]
    },
    {
      "cell_type": "code",
      "execution_count": null,
      "metadata": {
        "id": "zUZ5t7qWCQ4h"
      },
      "outputs": [],
      "source": [
        "from PIL import Image\n",
        "import numpy as np\n",
        "img = Image.open(\"im.jpeg\").convert('L')\n",
        "img = img.resize((28,28))\n",
        "img = np.array(img)\n",
        "img = img[np.newaxis, ..., np.newaxis] / 255"
      ]
    },
    {
      "cell_type": "markdown",
      "metadata": {
        "id": "q52AIFD8G3dk"
      },
      "source": [
        "**Optional assignment: in code cell below, by applying a good combination and parameterization of the 2 regularization techniques, + increasing the number of training epochs, + reducing the proportion of validation hold-out, TRY TO OBTAIN >99% acuracy ON TEST SET:**"
      ]
    },
    {
      "cell_type": "code",
      "execution_count": null,
      "metadata": {
        "colab": {
          "base_uri": "https://localhost:8080/",
          "height": 1000
        },
        "id": "mwgAaaAQG5X0",
        "outputId": "ab797646-af84-4b18-dc1c-ad4232441ca6"
      },
      "outputs": [
        {
          "name": "stdout",
          "output_type": "stream",
          "text": [
            "Model: \"sequential_3\"\n",
            "_________________________________________________________________\n",
            " Layer (type)                Output Shape              Param #   \n",
            "=================================================================\n",
            " conv2d_6 (Conv2D)           (None, 28, 28, 16)        160       \n",
            "                                                                 \n",
            " max_pooling2d_6 (MaxPooling  (None, 14, 14, 16)       0         \n",
            " 2D)                                                             \n",
            "                                                                 \n",
            " dropout_9 (Dropout)         (None, 14, 14, 16)        0         \n",
            "                                                                 \n",
            " conv2d_7 (Conv2D)           (None, 14, 14, 32)        4640      \n",
            "                                                                 \n",
            " max_pooling2d_7 (MaxPooling  (None, 7, 7, 32)         0         \n",
            " 2D)                                                             \n",
            "                                                                 \n",
            " dropout_10 (Dropout)        (None, 7, 7, 32)          0         \n",
            "                                                                 \n",
            " conv2d_8 (Conv2D)           (None, 7, 7, 32)          9248      \n",
            "                                                                 \n",
            " max_pooling2d_8 (MaxPooling  (None, 3, 3, 32)         0         \n",
            " 2D)                                                             \n",
            "                                                                 \n",
            " dropout_11 (Dropout)        (None, 3, 3, 32)          0         \n",
            "                                                                 \n",
            " flatten_3 (Flatten)         (None, 288)               0         \n",
            "                                                                 \n",
            " dense_6 (Dense)             (None, 64)                18496     \n",
            "                                                                 \n",
            " dropout_12 (Dropout)        (None, 64)                0         \n",
            "                                                                 \n",
            " dense_7 (Dense)             (None, 10)                650       \n",
            "                                                                 \n",
            "=================================================================\n",
            "Total params: 33,194\n",
            "Trainable params: 33,194\n",
            "Non-trainable params: 0\n",
            "_________________________________________________________________\n",
            "None\n",
            "Epoch 1/150\n",
            "3375/3375 [==============================] - 20s 6ms/step - loss: 0.3823 - accuracy: 0.9264 - val_loss: 0.1274 - val_accuracy: 0.9818 - lr: 0.0010\n",
            "Epoch 2/150\n",
            "3375/3375 [==============================] - 19s 6ms/step - loss: 0.1630 - accuracy: 0.9699 - val_loss: 0.1003 - val_accuracy: 0.9872 - lr: 0.0010\n",
            "Epoch 3/150\n",
            "3375/3375 [==============================] - 20s 6ms/step - loss: 0.1352 - accuracy: 0.9769 - val_loss: 0.1002 - val_accuracy: 0.9865 - lr: 0.0010\n",
            "Epoch 4/150\n",
            "3375/3375 [==============================] - 20s 6ms/step - loss: 0.1230 - accuracy: 0.9785 - val_loss: 0.0904 - val_accuracy: 0.9885 - lr: 0.0010\n",
            "Epoch 5/150\n",
            "3375/3375 [==============================] - 19s 6ms/step - loss: 0.1125 - accuracy: 0.9816 - val_loss: 0.0837 - val_accuracy: 0.9893 - lr: 0.0010\n",
            "Epoch 6/150\n",
            "3375/3375 [==============================] - 19s 6ms/step - loss: 0.1058 - accuracy: 0.9823 - val_loss: 0.0851 - val_accuracy: 0.9882 - lr: 0.0010\n",
            "Epoch 7/150\n",
            "3375/3375 [==============================] - 19s 6ms/step - loss: 0.1009 - accuracy: 0.9828 - val_loss: 0.0851 - val_accuracy: 0.9885 - lr: 0.0010\n",
            "Epoch 8/150\n",
            "3375/3375 [==============================] - 20s 6ms/step - loss: 0.0948 - accuracy: 0.9846 - val_loss: 0.0772 - val_accuracy: 0.9905 - lr: 0.0010\n",
            "Epoch 9/150\n",
            "3375/3375 [==============================] - 19s 6ms/step - loss: 0.0908 - accuracy: 0.9854 - val_loss: 0.0738 - val_accuracy: 0.9907 - lr: 0.0010\n",
            "Epoch 10/150\n",
            "3375/3375 [==============================] - 20s 6ms/step - loss: 0.0896 - accuracy: 0.9862 - val_loss: 0.0736 - val_accuracy: 0.9913 - lr: 0.0010\n",
            "Epoch 11/150\n",
            "3375/3375 [==============================] - 20s 6ms/step - loss: 0.0863 - accuracy: 0.9865 - val_loss: 0.0819 - val_accuracy: 0.9900 - lr: 0.0010\n",
            "Epoch 12/150\n",
            "3375/3375 [==============================] - 20s 6ms/step - loss: 0.0833 - accuracy: 0.9877 - val_loss: 0.0845 - val_accuracy: 0.9888 - lr: 0.0010\n",
            "Epoch 13/150\n",
            "3371/3375 [============================>.] - ETA: 0s - loss: 0.0797 - accuracy: 0.9884\n",
            "Epoch 00013: ReduceLROnPlateau reducing learning rate to 0.00010000000474974513.\n",
            "3375/3375 [==============================] - 20s 6ms/step - loss: 0.0797 - accuracy: 0.9884 - val_loss: 0.0770 - val_accuracy: 0.9907 - lr: 0.0010\n",
            "Epoch 14/150\n",
            "3375/3375 [==============================] - 20s 6ms/step - loss: 0.0496 - accuracy: 0.9943 - val_loss: 0.0502 - val_accuracy: 0.9930 - lr: 1.0000e-04\n",
            "Epoch 15/150\n",
            "3375/3375 [==============================] - 21s 6ms/step - loss: 0.0336 - accuracy: 0.9957 - val_loss: 0.0405 - val_accuracy: 0.9947 - lr: 1.0000e-04\n",
            "Epoch 16/150\n",
            "3375/3375 [==============================] - 20s 6ms/step - loss: 0.0278 - accuracy: 0.9961 - val_loss: 0.0376 - val_accuracy: 0.9940 - lr: 1.0000e-04\n",
            "Epoch 17/150\n",
            "3375/3375 [==============================] - 21s 6ms/step - loss: 0.0245 - accuracy: 0.9965 - val_loss: 0.0365 - val_accuracy: 0.9940 - lr: 1.0000e-04\n",
            "Epoch 18/150\n",
            "3375/3375 [==============================] - 20s 6ms/step - loss: 0.0232 - accuracy: 0.9965 - val_loss: 0.0349 - val_accuracy: 0.9932 - lr: 1.0000e-04\n",
            "Epoch 19/150\n",
            "3375/3375 [==============================] - 21s 6ms/step - loss: 0.0209 - accuracy: 0.9966 - val_loss: 0.0332 - val_accuracy: 0.9943 - lr: 1.0000e-04\n",
            "Epoch 20/150\n",
            "3375/3375 [==============================] - 20s 6ms/step - loss: 0.0202 - accuracy: 0.9968 - val_loss: 0.0347 - val_accuracy: 0.9943 - lr: 1.0000e-04\n",
            "Epoch 21/150\n",
            "3375/3375 [==============================] - 20s 6ms/step - loss: 0.0194 - accuracy: 0.9967 - val_loss: 0.0332 - val_accuracy: 0.9950 - lr: 1.0000e-04\n",
            "Epoch 22/150\n",
            "3375/3375 [==============================] - 20s 6ms/step - loss: 0.0188 - accuracy: 0.9970 - val_loss: 0.0323 - val_accuracy: 0.9940 - lr: 1.0000e-04\n",
            "Epoch 23/150\n",
            "3375/3375 [==============================] - 20s 6ms/step - loss: 0.0179 - accuracy: 0.9971 - val_loss: 0.0313 - val_accuracy: 0.9948 - lr: 1.0000e-04\n",
            "Epoch 24/150\n",
            "3375/3375 [==============================] - 20s 6ms/step - loss: 0.0179 - accuracy: 0.9970 - val_loss: 0.0317 - val_accuracy: 0.9942 - lr: 1.0000e-04\n",
            "Epoch 25/150\n",
            "3375/3375 [==============================] - 20s 6ms/step - loss: 0.0179 - accuracy: 0.9972 - val_loss: 0.0343 - val_accuracy: 0.9938 - lr: 1.0000e-04\n",
            "Epoch 26/150\n",
            "3373/3375 [============================>.] - ETA: 0s - loss: 0.0173 - accuracy: 0.9970\n",
            "Epoch 00026: ReduceLROnPlateau reducing learning rate to 1.0000000474974514e-05.\n",
            "3375/3375 [==============================] - 21s 6ms/step - loss: 0.0173 - accuracy: 0.9970 - val_loss: 0.0316 - val_accuracy: 0.9945 - lr: 1.0000e-04\n",
            "Epoch 27/150\n",
            "3375/3375 [==============================] - 21s 6ms/step - loss: 0.0152 - accuracy: 0.9978 - val_loss: 0.0306 - val_accuracy: 0.9948 - lr: 1.0000e-05\n",
            "Epoch 28/150\n",
            "3375/3375 [==============================] - 20s 6ms/step - loss: 0.0140 - accuracy: 0.9984 - val_loss: 0.0300 - val_accuracy: 0.9952 - lr: 1.0000e-05\n",
            "Epoch 29/150\n",
            "3375/3375 [==============================] - 21s 6ms/step - loss: 0.0129 - accuracy: 0.9986 - val_loss: 0.0301 - val_accuracy: 0.9950 - lr: 1.0000e-05\n",
            "Epoch 30/150\n",
            "3375/3375 [==============================] - 21s 6ms/step - loss: 0.0131 - accuracy: 0.9985 - val_loss: 0.0298 - val_accuracy: 0.9952 - lr: 1.0000e-05\n",
            "Epoch 31/150\n",
            "3375/3375 [==============================] - 21s 6ms/step - loss: 0.0124 - accuracy: 0.9986 - val_loss: 0.0301 - val_accuracy: 0.9947 - lr: 1.0000e-05\n",
            "Epoch 32/150\n",
            "3375/3375 [==============================] - 22s 6ms/step - loss: 0.0124 - accuracy: 0.9984 - val_loss: 0.0298 - val_accuracy: 0.9950 - lr: 1.0000e-05\n",
            "Epoch 33/150\n",
            "3375/3375 [==============================] - 21s 6ms/step - loss: 0.0120 - accuracy: 0.9986 - val_loss: 0.0295 - val_accuracy: 0.9948 - lr: 1.0000e-05\n",
            "Epoch 00033: early stopping\n",
            "313/313 [==============================] - 2s 6ms/step - loss: 0.0251 - accuracy: 0.9942\n",
            "The final loss on the TEST set is: 0.03.\n",
            "The final accuracy on the TEST set is: 0.99.\n"
          ]
        },
        {
          "data": {
            "image/png": "[encoded data removed]",
            "text/plain": [
              "<Figure size 432x288 with 1 Axes>"
            ]
          },
          "metadata": {
            "needs_background": "light"
          },
          "output_type": "display_data"
        }
      ],
      "source": [
        "#Test ConvNet overfitting prevention method #2\n",
        "# Test ConvNet overfitting prevention method #1 Dropout\n",
        "\n",
        "batch_size = 16    # in each iteration, we consider 32 training examples at once\n",
        "num_epochs = 150   # we iterate 12 times over the entire training set\n",
        "kernel_size = 3    # we will use 5x5 kernels throughout\n",
        "pool_size = 2      # we will use 2x2 pooling throughout\n",
        "conv_depth_1 = 16   # we will initially have 6 kernels in first conv. layer...\n",
        "conv_depth_2 = 32  # ...switching to 16 after the first pooling layer\n",
        "drop_prob_1 = 0   # dropout after pooling with probability 0.\n",
        "drop_prob_2 = 0.3   # dropout in the FC layer with probability 0.\n",
        "hidden_size = 64  # the FC layer will have 128neurons\n",
        "weight_penalty = 0.01 # Factor for weights penalty\n",
        "\n",
        "# --------------------------------------\n",
        "# CNN network definition \n",
        "# --------------------------------------\n",
        "# inp = Input(shape=(1,height,width)) # greyscale --> depth==1\n",
        "# model = Model(input=inp, output=out) # To define a model, just specify its input and output layers\n",
        "\n",
        "model = Sequential()\n",
        "# Conv [8] -> Pool (with dropout on the pooling layer)\n",
        "model.add( Conv2D(conv_depth_1, (kernel_size,kernel_size), padding='same', activation='relu', data_format=\"channels_last\", input_shape=( 28, 28, 1)) )\n",
        "model.add( MaxPooling2D(pool_size=(pool_size, pool_size)) )\n",
        "model.add( Dropout(drop_prob_1) )\n",
        "\n",
        "# Conv [16] -> Pool (with dropout on the pooling layer)\n",
        "model.add( Conv2D(conv_depth_2, (kernel_size,kernel_size), padding='same', activation='relu') )\n",
        "model.add( MaxPooling2D(pool_size=(pool_size, pool_size)) )\n",
        "model.add( Dropout(drop_prob_1) )\n",
        "\n",
        "# Conv [16] -> Pool (with dropout on the pooling layer)\n",
        "model.add( Conv2D(conv_depth_2, (kernel_size,kernel_size), padding='same', activation='relu') )\n",
        "model.add( MaxPooling2D(pool_size=(pool_size, pool_size)) )\n",
        "model.add( Dropout(drop_prob_1) )\n",
        "\n",
        "# Now flatten to 1D, apply FC -> ReLU (with dropout) -> softmax\n",
        "model.add( Flatten() )\n",
        "model.add( Dense(hidden_size, activation='relu', kernel_regularizer=regularizers.l2(weight_penalty)) )\n",
        "model.add( Dropout(drop_prob_2) )\n",
        "model.add( Dense(num_classes, activation='softmax') )\n",
        "\n",
        "print(model.summary())\n",
        "\n",
        "\n",
        "#---------------------------------------\n",
        "# Callbacks\n",
        "es = tensorflow.keras.callbacks.EarlyStopping(monitor = \"val_loss\", patience=5, verbose =1, min_delta=0.001)\n",
        "reducelr = tensorflow.keras.callbacks.ReduceLROnPlateau(monitor = \"val_loss\", patience=3, verbose=1,factor=0.1,min_delta=0.0001)\n",
        "mc = tensorflow.keras.callbacks.ModelCheckpoint(monitor=\"val_loss\",filepath=\"best_val\")\n",
        "\n",
        "\n",
        "# --------------------------------------\n",
        "# Loss function and Optimizer\n",
        "# --------------------------------------\n",
        "model.compile(loss='categorical_crossentropy', # using the cross-entropy loss function\n",
        "              optimizer='adam', # using the Adam optimiser\n",
        "              metrics=['accuracy']) # reporting the accuracy\n",
        "\n",
        "# --------------------------------------\n",
        "# Training\n",
        "# --------------------------------------\n",
        "history = model.fit(X_train, Y_train, # Train the model using the training set...\n",
        "          batch_size=batch_size, epochs=num_epochs,\n",
        "          verbose=1, validation_split=0.1,callbacks=[es,reducelr]) # ...holding out 40% of the data for validation\n",
        "\n",
        "# --------------------------------------\n",
        "# Evaluation\n",
        "# --------------------------------------\n",
        "for loss_name, loss_value in list(zip(model.metrics_names, model.evaluate(X_test, Y_test, verbose=1))):\n",
        "    print('The final {} on the TEST set is: {:.2f}.'.format(loss_name, loss_value)) # Evaluate the trained model on the test set!\n",
        "\n",
        "\n",
        "# --------------------------------------\n",
        "# Loss functions evolution\n",
        "# --------------------------------------\n",
        "plt.plot(history.history['loss'])\n",
        "plt.plot(history.history['val_loss'])\n",
        "plt.title('Model loss by epoch')\n",
        "plt.ylabel('loss')\n",
        "plt.xlabel('epoch')\n",
        "plt.legend(['train', 'valid'], loc='right')\n",
        "plt.show()\n"
      ]
    },
    {
      "cell_type": "code",
      "execution_count": null,
      "metadata": {
        "colab": {
          "base_uri": "https://localhost:8080/",
          "height": 1000
        },
        "id": "ZWQ4EsW9S3QG",
        "outputId": "b810d1eb-a6a2-4f6a-daab-d66855d2b364"
      },
      "outputs": [
        {
          "name": "stdout",
          "output_type": "stream",
          "text": [
            "Model: \"sequential_4\"\n",
            "_________________________________________________________________\n",
            " Layer (type)                Output Shape              Param #   \n",
            "=================================================================\n",
            " conv2d_9 (Conv2D)           (None, 28, 28, 16)        160       \n",
            "                                                                 \n",
            " max_pooling2d_9 (MaxPooling  (None, 14, 14, 16)       0         \n",
            " 2D)                                                             \n",
            "                                                                 \n",
            " batch_normalization (BatchN  (None, 14, 14, 16)       64        \n",
            " ormalization)                                                   \n",
            "                                                                 \n",
            " conv2d_10 (Conv2D)          (None, 14, 14, 32)        4640      \n",
            "                                                                 \n",
            " max_pooling2d_10 (MaxPoolin  (None, 7, 7, 32)         0         \n",
            " g2D)                                                            \n",
            "                                                                 \n",
            " batch_normalization_1 (Batc  (None, 7, 7, 32)         128       \n",
            " hNormalization)                                                 \n",
            "                                                                 \n",
            " conv2d_11 (Conv2D)          (None, 7, 7, 32)          9248      \n",
            "                                                                 \n",
            " max_pooling2d_11 (MaxPoolin  (None, 3, 3, 32)         0         \n",
            " g2D)                                                            \n",
            "                                                                 \n",
            " batch_normalization_2 (Batc  (None, 3, 3, 32)         128       \n",
            " hNormalization)                                                 \n",
            "                                                                 \n",
            " global_average_pooling2d (G  (None, 32)               0         \n",
            " lobalAveragePooling2D)                                          \n",
            "                                                                 \n",
            " dense_8 (Dense)             (None, 10)                330       \n",
            "                                                                 \n",
            "=================================================================\n",
            "Total params: 14,698\n",
            "Trainable params: 14,538\n",
            "Non-trainable params: 160\n",
            "_________________________________________________________________\n",
            "None\n",
            "Epoch 1/150\n",
            "3375/3375 [==============================] - 22s 6ms/step - loss: 0.2187 - accuracy: 0.9467 - val_loss: 0.0677 - val_accuracy: 0.9800 - lr: 0.0010\n",
            "Epoch 2/150\n",
            "3375/3375 [==============================] - 21s 6ms/step - loss: 0.0699 - accuracy: 0.9795 - val_loss: 0.0427 - val_accuracy: 0.9877 - lr: 0.0010\n",
            "Epoch 3/150\n",
            "3375/3375 [==============================] - 21s 6ms/step - loss: 0.0536 - accuracy: 0.9841 - val_loss: 0.0433 - val_accuracy: 0.9882 - lr: 0.0010\n",
            "Epoch 4/150\n",
            "3375/3375 [==============================] - 21s 6ms/step - loss: 0.0454 - accuracy: 0.9859 - val_loss: 0.0357 - val_accuracy: 0.9895 - lr: 0.0010\n",
            "Epoch 5/150\n",
            "3375/3375 [==============================] - 21s 6ms/step - loss: 0.0377 - accuracy: 0.9880 - val_loss: 0.0339 - val_accuracy: 0.9895 - lr: 0.0010\n",
            "Epoch 6/150\n",
            "3375/3375 [==============================] - 21s 6ms/step - loss: 0.0341 - accuracy: 0.9891 - val_loss: 0.0402 - val_accuracy: 0.9870 - lr: 0.0010\n",
            "Epoch 7/150\n",
            "3375/3375 [==============================] - 21s 6ms/step - loss: 0.0318 - accuracy: 0.9897 - val_loss: 0.0364 - val_accuracy: 0.9887 - lr: 0.0010\n",
            "Epoch 8/150\n",
            "3368/3375 [============================>.] - ETA: 0s - loss: 0.0269 - accuracy: 0.9914\n",
            "Epoch 00008: ReduceLROnPlateau reducing learning rate to 0.00010000000474974513.\n",
            "3375/3375 [==============================] - 22s 6ms/step - loss: 0.0269 - accuracy: 0.9914 - val_loss: 0.0368 - val_accuracy: 0.9885 - lr: 0.0010\n",
            "Epoch 9/150\n",
            "3375/3375 [==============================] - 22s 6ms/step - loss: 0.0184 - accuracy: 0.9946 - val_loss: 0.0291 - val_accuracy: 0.9915 - lr: 1.0000e-04\n",
            "Epoch 10/150\n",
            "3375/3375 [==============================] - 22s 6ms/step - loss: 0.0141 - accuracy: 0.9953 - val_loss: 0.0282 - val_accuracy: 0.9920 - lr: 1.0000e-04\n",
            "Epoch 11/150\n",
            "3375/3375 [==============================] - 21s 6ms/step - loss: 0.0125 - accuracy: 0.9962 - val_loss: 0.0286 - val_accuracy: 0.9922 - lr: 1.0000e-04\n",
            "Epoch 12/150\n",
            "3375/3375 [==============================] - 22s 6ms/step - loss: 0.0120 - accuracy: 0.9966 - val_loss: 0.0279 - val_accuracy: 0.9923 - lr: 1.0000e-04\n",
            "Epoch 13/150\n",
            "3375/3375 [==============================] - 22s 6ms/step - loss: 0.0117 - accuracy: 0.9967 - val_loss: 0.0276 - val_accuracy: 0.9927 - lr: 1.0000e-04\n",
            "Epoch 14/150\n",
            "3375/3375 [==============================] - 23s 7ms/step - loss: 0.0103 - accuracy: 0.9971 - val_loss: 0.0281 - val_accuracy: 0.9927 - lr: 1.0000e-04\n",
            "Epoch 15/150\n",
            "3375/3375 [==============================] - 23s 7ms/step - loss: 0.0104 - accuracy: 0.9970 - val_loss: 0.0270 - val_accuracy: 0.9927 - lr: 1.0000e-04\n",
            "Epoch 16/150\n",
            "3375/3375 [==============================] - 22s 7ms/step - loss: 0.0095 - accuracy: 0.9974 - val_loss: 0.0274 - val_accuracy: 0.9925 - lr: 1.0000e-04\n",
            "Epoch 17/150\n",
            "3375/3375 [==============================] - 22s 6ms/step - loss: 0.0096 - accuracy: 0.9970 - val_loss: 0.0296 - val_accuracy: 0.9922 - lr: 1.0000e-04\n",
            "Epoch 00017: early stopping\n",
            "313/313 [==============================] - 2s 5ms/step - loss: 0.0225 - accuracy: 0.9921\n",
            "The final loss on the TEST set is: 0.02.\n",
            "The final accuracy on the TEST set is: 0.99.\n"
          ]
        },
        {
          "data": {
            "image/png": "[encoded data removed]",
            "text/plain": [
              "<Figure size 432x288 with 1 Axes>"
            ]
          },
          "metadata": {
            "needs_background": "light"
          },
          "output_type": "display_data"
        }
      ],
      "source": [
        "from tensorflow.keras.layers import BatchNormalization, GlobalAveragePooling2D\n",
        "\n",
        "batch_size = 16    # in each iteration, we consider 32 training examples at once\n",
        "num_epochs = 150   # we iterate 12 times over the entire training set\n",
        "kernel_size = 3    # we will use 5x5 kernels throughout\n",
        "pool_size = 2      # we will use 2x2 pooling throughout\n",
        "conv_depth_1 = 16   # we will initially have 6 kernels in first conv. layer...\n",
        "conv_depth_2 = 32  # ...switching to 16 after the first pooling layer\n",
        "drop_prob_1 = 0   # dropout after pooling with probability 0.\n",
        "drop_prob_2 = 0.3   # dropout in the FC layer with probability 0.\n",
        "hidden_size = 64  # the FC layer will have 128neurons\n",
        "weight_penalty = 0.01 # Factor for weights penalty\n",
        "\n",
        "# --------------------------------------\n",
        "# CNN network definition \n",
        "# --------------------------------------\n",
        "# inp = Input(shape=(1,height,width)) # greyscale --> depth==1\n",
        "# model = Model(input=inp, output=out) # To define a model, just specify its input and output layers\n",
        "\n",
        "model = Sequential()\n",
        "# Conv [8] -> Pool (with dropout on the pooling layer)\n",
        "model.add( Conv2D(conv_depth_1, (kernel_size,kernel_size), padding='same', activation='relu', data_format=\"channels_last\", input_shape=( 28, 28, 1)) )\n",
        "model.add( MaxPooling2D(pool_size=(pool_size, pool_size)) )\n",
        "model.add( BatchNormalization() )\n",
        "\n",
        "# Conv [16] -> Pool (with dropout on the pooling layer)\n",
        "model.add( Conv2D(conv_depth_2, (kernel_size,kernel_size), padding='same', activation='relu') )\n",
        "model.add( MaxPooling2D(pool_size=(pool_size, pool_size)) )\n",
        "model.add( BatchNormalization() )\n",
        "\n",
        "# Conv [16] -> Pool (with dropout on the pooling layer)\n",
        "model.add( Conv2D(conv_depth_2, (kernel_size,kernel_size), padding='same', activation='relu') )\n",
        "model.add( MaxPooling2D(pool_size=(pool_size, pool_size)) )\n",
        "model.add( BatchNormalization() )\n",
        "\n",
        "# Now flatten to 1D, apply FC -> ReLU (with dropout) -> softmax\n",
        "model.add(GlobalAveragePooling2D())\n",
        "model.add( Dense(num_classes, activation='softmax') )\n",
        "\n",
        "print(model.summary())\n",
        "\n",
        "\n",
        "#---------------------------------------\n",
        "# Callbacks\n",
        "es = tensorflow.keras.callbacks.EarlyStopping(monitor = \"val_loss\", patience=5, verbose =1, min_delta=0.001)\n",
        "reducelr = tensorflow.keras.callbacks.ReduceLROnPlateau(monitor = \"val_loss\", patience=3, verbose=1,factor=0.1,min_delta=0.0001)\n",
        "mc = tensorflow.keras.callbacks.ModelCheckpoint(monitor=\"val_loss\",filepath=\"best_val\")\n",
        "\n",
        "\n",
        "# --------------------------------------\n",
        "# Loss function and Optimizer\n",
        "# --------------------------------------\n",
        "model.compile(loss='categorical_crossentropy', # using the cross-entropy loss function\n",
        "              optimizer='adam', # using the Adam optimiser\n",
        "              metrics=['accuracy']) # reporting the accuracy\n",
        "\n",
        "# --------------------------------------\n",
        "# Training\n",
        "# --------------------------------------\n",
        "history = model.fit(X_train, Y_train, # Train the model using the training set...\n",
        "          batch_size=batch_size, epochs=num_epochs,\n",
        "          verbose=1, validation_split=0.1,callbacks=[es,reducelr]) # ...holding out 40% of the data for validation\n",
        "\n",
        "# --------------------------------------\n",
        "# Evaluation\n",
        "# --------------------------------------\n",
        "for loss_name, loss_value in list(zip(model.metrics_names, model.evaluate(X_test, Y_test, verbose=1))):\n",
        "    print('The final {} on the TEST set is: {:.2f}.'.format(loss_name, loss_value)) # Evaluate the trained model on the test set!\n",
        "\n",
        "\n",
        "# --------------------------------------\n",
        "# Loss functions evolution\n",
        "# --------------------------------------\n",
        "plt.plot(history.history['loss'])\n",
        "plt.plot(history.history['val_loss'])\n",
        "plt.title('Model loss by epoch')\n",
        "plt.ylabel('loss')\n",
        "plt.xlabel('epoch')\n",
        "plt.legend(['train', 'valid'], loc='right')\n",
        "plt.show()\n"
      ]
    }
  ],
  "metadata": {
    "accelerator": "GPU",
    "colab": {
      "collapsed_sections": [],
      "name": "Copy of Convnet_Soluce_Jo_correct.ipynb",
      "provenance": []
    },
    "kernelspec": {
      "display_name": "Python 3",
      "language": "python",
      "name": "python3"
    },
    "language_info": {
      "codemirror_mode": {
        "name": "ipython",
        "version": 3
      },
      "file_extension": ".py",
      "mimetype": "text/x-python",
      "name": "python",
      "nbconvert_exporter": "python",
      "pygments_lexer": "ipython3",
      "version": "3.7.8"
    }
  },
  "nbformat": 4,
  "nbformat_minor": 0
}
